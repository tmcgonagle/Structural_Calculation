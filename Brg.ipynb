{
 "cells": [
  {
   "cell_type": "code",
   "execution_count": 1,
   "metadata": {},
   "outputs": [],
   "source": [
    "import warnings\n",
    "warnings.filterwarnings('ignore')"
   ]
  },
  {
   "cell_type": "code",
   "execution_count": 2,
   "metadata": {},
   "outputs": [],
   "source": [
    "import handcalcs.render\n",
    "from math import sqrt, pi\n",
    "import pandas as pd\n",
    "import matplotlib.pyplot as plt\n",
    "import seaborn as sns\n",
    "import sympy\n",
    "import numpy as np\n",
    "import forallpeople\n",
    "from ipycanvas import Canvas, RoughCanvas\n",
    "import ipywidgets as widgets\n",
    "from IPython.display import display, HTML\n",
    "from __future__ import print_function\n",
    "from ipywidgets import widgets, interact, interactive, fixed, interact_manual\n",
    "import ipywidgets as widgets\n",
    "import drawSvg as draw\n",
    "%matplotlib inline\n",
    "sns.set_theme()\n",
    "\n",
    "forallpeople.environment('Structural', top_level=True)\n",
    "kNm = 1000*Nm\n",
    "KN = 1000*N"
   ]
  },
  {
   "cell_type": "markdown",
   "metadata": {
    "toc": true
   },
   "source": [
    "<h1>Table of Contents<span class=\"tocSkip\"></span></h1>\n",
    "<div class=\"toc\"><ul class=\"toc-item\"><li><span><a href=\"#Bearing-stiffener-design-to-BS5400:3\" data-toc-modified-id=\"Bearing-stiffener-design-to-BS5400:3-1\"><span class=\"toc-item-num\">1&nbsp;&nbsp;</span>Bearing stiffener design to BS5400:3</a></span><ul class=\"toc-item\"><li><span><a href=\"#Tension-field-action-\" data-toc-modified-id=\"Tension-field-action--1.1\"><span class=\"toc-item-num\">1.1&nbsp;&nbsp;</span>Tension field action <a name=\"a\"></a></a></span><ul class=\"toc-item\"><li><span><a href=\"#British-standard-method\" data-toc-modified-id=\"British-standard-method-1.1.1\"><span class=\"toc-item-num\">1.1.1&nbsp;&nbsp;</span>British standard method</a></span></li><li><span><a href=\"#Eurocode-method\" data-toc-modified-id=\"Eurocode-method-1.1.2\"><span class=\"toc-item-num\">1.1.2&nbsp;&nbsp;</span>Eurocode method</a></span></li></ul></li><li><span><a href=\"#Destabilising-effect-of-the-web\" data-toc-modified-id=\"Destabilising-effect-of-the-web-1.2\"><span class=\"toc-item-num\">1.2&nbsp;&nbsp;</span>Destabilising effect of the web</a></span></li><li><span><a href=\"#Axial-force-due-to-transfer-of-load-through-a-cross-frame/beam;\" data-toc-modified-id=\"Axial-force-due-to-transfer-of-load-through-a-cross-frame/beam;-1.3\"><span class=\"toc-item-num\">1.3&nbsp;&nbsp;</span>Axial force due to transfer of load through a cross frame/beam;</a></span></li></ul></li></ul></div>"
   ]
  },
  {
   "cell_type": "code",
   "execution_count": 3,
   "metadata": {},
   "outputs": [],
   "source": [
    "# import handcalcs.render\n",
    "# from math import sqrt, pi\n",
    "# import pandas as pd\n",
    "# import matplotlib.pyplot as plt\n",
    "# import seaborn as sns\n",
    "# import sympy\n",
    "# import numpy as np\n",
    "# import forallpeople\n",
    "# from ipycanvas import Canvas, RoughCanvas\n",
    "# import ipywidgets as widgets\n",
    "# from IPython.display import display, HTML\n",
    "# from __future__ import print_function\n",
    "# from ipywidgets import widgets, interact, interactive, fixed, interact_manual\n",
    "# import ipywidgets as widgets\n",
    "# import drawSvg as draw\n",
    "# %matplotlib inline\n",
    "# sns.set_theme()\n",
    "\n",
    "# CSS = \"\"\"\n",
    "# .output {\n",
    "#     align-items: center;\n",
    "# }\n",
    "\n",
    "# \"\"\"\n",
    "\n",
    "# HTML('<style>{}</style>'.format(CSS))"
   ]
  },
  {
   "cell_type": "markdown",
   "metadata": {},
   "source": [
    "# Bearing stiffener design to BS5400:3\n",
    "\n",
    "In accordance with Cl 9.13.3.1, there are a number of forces to consider when designing a transverse stiffener.  \n",
    "\n",
    "1.1 axial force due to tension field action in accordance with 9.13.3.2;   $F_{tw}$ = {{F_tw}}  \n",
    "1.2 axial force representing the destabilising influence of the web in accordance with 9.13.3.3;   $F_{wi}$ = {{F_wi2}} kN  \n",
    "1.3 axial force due to transfer of load through a cross frame/beam;  \n",
    "1.4 axial force due to a load applied at flange level;  \n",
    "1.5 axial force due to curvature of flange in accordance with 9.12.3.4;  \n",
    "1.6 axial force due to change of slope of flange;  \n",
    "1.7 bending moment due to axial forces above acting eccentrically."
   ]
  },
  {
   "cell_type": "markdown",
   "metadata": {},
   "source": [
    "Firstly, define some variables to be used."
   ]
  },
  {
   "cell_type": "markdown",
   "metadata": {},
   "source": [
    "Stresses from section 4.3"
   ]
  },
  {
   "cell_type": "code",
   "execution_count": 4,
   "metadata": {},
   "outputs": [
    {
     "data": {
      "text/latex": [
       "\\[\n",
       "\\begin{aligned}\n",
       "\\sigma_{Tweb} &= -281.0\\ \\text{MPa} \\; \\;\\textrm{(tensile stress)}\n",
       " &\\sigma_{Bweb} &= 248.0\\ \\text{MPa} \\; \\;\\textrm{(compressive stress)}\n",
       " &\\tau &= 129.7\\ \\text{MPa} \\; \\;\\textrm{(shear stress)}\n",
       "\\\\[10pt]\\end{aligned}\n",
       "\\]"
      ],
      "text/plain": [
       "<IPython.core.display.Latex object>"
      ]
     },
     "metadata": {},
     "output_type": "display_data"
    }
   ],
   "source": [
    "%%render params 1\n",
    "\n",
    "sigma_Tweb = (-281*MPa) # tensile stress\n",
    "sigma_Bweb = (248*MPa) # compressive stress\n",
    "tau = (6000*1000/(25*1850))*MPa # shear stress\n",
    "\n",
    "\n"
   ]
  },
  {
   "cell_type": "markdown",
   "metadata": {},
   "source": [
    "Geometrical and material properties of panel"
   ]
  },
  {
   "cell_type": "code",
   "execution_count": 5,
   "metadata": {},
   "outputs": [
    {
     "data": {
      "text/latex": [
       "\\[\n",
       "\\begin{aligned}\n",
       "E &= 205.0\\ \\text{GPa} \\; \\;\\textrm{(Young's modulus of steel)}\n",
       "\\\\[10pt]\n",
       "h &= 1850.0\\ \\text{mm} \\; \\;\\textrm{(Height of web)}\n",
       "\\\\[10pt]\n",
       "t_{w} &= 25.0\\ \\text{mm} \\; \\;\\textrm{(Thickness of web)}\n",
       "\\\\[10pt]\n",
       "a &= 3000.0\\ \\text{mm} \\; \\;\\textrm{(panel length)}\n",
       "\\\\[10pt]\n",
       "b &= 1850.0\\ \\text{mm} \\; \\;\\textrm{(Panel width i.e. height of web)}\n",
       "\\\\[10pt]\n",
       "l_{s} &= 1850.0\\ \\text{mm} \\; \\;\\textrm{(length of transverse stiffener)}\n",
       "\\end{aligned}\n",
       "\\]"
      ],
      "text/plain": [
       "<IPython.core.display.Latex object>"
      ]
     },
     "metadata": {},
     "output_type": "display_data"
    }
   ],
   "source": [
    "%%render 1\n",
    "#short\n",
    "\n",
    "E = (205000*MPa) #Young's modulus of steel\n",
    "h = ((1850*mm).prefix('m')) #Height of web\n",
    "t_w = (25*mm) #Thickness of web\n",
    "a = ((3000*mm).prefix('m')) # panel length\n",
    "b = h #Panel width i.e. height of web\n",
    "l_s = b # length of transverse stiffener \n",
    "\n",
    "\n",
    "\n"
   ]
  },
  {
   "cell_type": "code",
   "execution_count": null,
   "metadata": {},
   "outputs": [],
   "source": []
  },
  {
   "cell_type": "markdown",
   "metadata": {},
   "source": [
    "The neutral axis is found by using similar triangles:"
   ]
  },
  {
   "cell_type": "code",
   "execution_count": 6,
   "metadata": {},
   "outputs": [
    {
     "data": {
      "text/latex": [
       "\\[\n",
       "\\begin{aligned}\n",
       "\\mathrm{NA} &= 867.3\\ \\text{mm} \\; \\;\\textrm{(from bottom)}\\end{aligned}\n",
       "\\]"
      ],
      "text/plain": [
       "<IPython.core.display.Latex object>"
      ]
     },
     "metadata": {},
     "output_type": "display_data"
    }
   ],
   "source": [
    "%%render params 1\n",
    "NA = (h*abs(sigma_Bweb)/(abs(sigma_Tweb) + abs(sigma_Bweb)))  #from bottom"
   ]
  },
  {
   "cell_type": "code",
   "execution_count": null,
   "metadata": {},
   "outputs": [],
   "source": []
  },
  {
   "cell_type": "markdown",
   "metadata": {},
   "source": [
    "The effective width of the web extends by 16$t_w$ beyond each extreme stiffener.  \n",
    "\n",
    "Below is a table summarising the section properties of the stiffened bearing area. Parallel axis theorem has been used in order to find the Second moment of Areas about axes X and Y, shown in Figure 1 of BS5400:3."
   ]
  },
  {
   "cell_type": "code",
   "execution_count": 7,
   "metadata": {},
   "outputs": [],
   "source": [
    "\n",
    "\n",
    "df = pd.DataFrame({'name': ['Inner 1', 'Outer 2', 'Brg Inner 3', 'Brg Outer 4', 'Inner 5', 'Outer 6'],\n",
    "                   'B': [25,25,30,30,25,25],\n",
    "                   'D': [215,215,215,215,215,215],\n",
    "                   'x': [-300,-300,0,0,300,300],\n",
    "                   'y': [107.5+float(t_w)/2,-107.5-float(t_w)/2,107.5+float(t_w)/2,-107.5-float(t_w)/2,107.5+float(t_w)/2,-107.5-float(t_w)/2],      \n",
    "\n",
    "                   })\n",
    "\n",
    "Web_width = ((abs(df['x'].min()) + abs(df['x'].max()))*mm + 32*t_w).prefix('m')\n",
    "\n",
    "df2 = pd.DataFrame({'name': ['Web'],\n",
    "                   'B': [float(Web_width)],\n",
    "                   'D': [float(t_w)],\n",
    "                   'x': [0],\n",
    "                   'y': [0],      \n",
    "                    \n",
    "                   })\n",
    "\n",
    "df = pd.concat([df,df2])\n",
    "df = df.reset_index(drop=True)\n",
    "\n",
    "# df = df.apply(pd.to_numeric) # convert all columns of DataFrame\n",
    "\n",
    "df['Area'] = df['B']*df['D']\n",
    "df['Ax'] = df['Area']*df['x']\n",
    "df['Ay'] = df['Area']*df['y']\n",
    "\n",
    "\n",
    "\n",
    "xNA = df.Ax.sum()/df.Area.sum()\n",
    "yNA = df.Ay.sum()/df.Area.sum()\n",
    "A = df.Area.sum()\n",
    "\n",
    "df.loc[\"Total\", \"Area\"] = df.Area.sum()\n",
    "df.loc[\"Total\", \"Ax\"] = df.Ax.sum()\n",
    "df.loc[\"Total\", \"Ay\"] = df.Ay.sum()\n",
    "\n",
    "df['xNA'] = df['x']-xNA\n",
    "\n",
    "df['$A{x_{NA}^2}$'] = (df['Area']*(df['xNA']**2))\n",
    "df['$I_{locyy}$'] = (df['D']*(df['B']**3)/12)\n",
    "df['Iyy'] = df['$A{x_{NA}^2}$'] + df['$I_{locyy}$']\n",
    "df.loc[\"Total\", \"Iyy\"] = df.Iyy.sum()\n",
    "Iyy = df.Iyy.sum()\n",
    "df.loc[\"Total\", \"$I_{locyy}$\"] = df['$I_{locyy}$'].sum()\n",
    "df.loc[\"Total\", \"$A{x_{NA}^2}$\"] = df['$A{x_{NA}^2}$'].sum()\n",
    "\n",
    "\n",
    "df['yNA'] = df['y']-yNA\n",
    "df['$A{y_{NA}^2}$'] = (df['Area']*(df['yNA']**2))\n",
    "df['$I_{locxx}$'] = (df['B']*(df['D']**3)/12)\n",
    "df['Ixx'] = df['$A{y_{NA}^2}$'] + df['$I_{locxx}$']\n",
    "df.loc[\"Total\", \"Ixx\"] = df.Ixx.sum()\n",
    "Ixx = df.Ixx.sum()\n",
    "df.loc[\"Total\", \"$I_{locxx}$\"] = df['$I_{locxx}$'].sum()\n",
    "df.loc[\"Total\", \"$A{y_{NA}^2}$\"] = df['$A{y_{NA}^2}$'].sum()\n",
    "\n",
    "## df2 is used later for the cross girder bending\n",
    "\n",
    "\n",
    "\n",
    "\n",
    "# .map(\"{:.1E}\".format)\n",
    "df = df.replace(np.nan, '', regex=True)\n",
    "df1 = df.replace(np.nan, '', regex=True)\n",
    "\n",
    "\n",
    "\n",
    "df1['$A{x_{NA}^2}$']= df1['$A{x_{NA}^2}$'].map(\"{:.2E}\".format)\n",
    "df1['$I_{locyy}$'] = df1['$I_{locyy}$'].map(\"{:.2E}\".format)\n",
    "df1['Iyy'] = df1['Iyy'].map(\"{:.2E}\".format)\n",
    "df1['$A{y_{NA}^2}$']= df1['$A{y_{NA}^2}$'].map(\"{:.2E}\".format)\n",
    "df1['$I_{locxx}$'] = df1['$I_{locxx}$'].map(\"{:.2E}\".format)\n",
    "df1['Ixx'] = df1['Ixx'].map(\"{:.2E}\".format)\n",
    "\n",
    "\n",
    "\n",
    "\n",
    "pd.set_option('display.float_format', lambda x: '%.0f' % x \n",
    "                      if (x == x and x*10 % 10 == 0) \n",
    "                      else ('%.0f' % x if (x == x and x*100 % 10 == 0)\n",
    "                      else '%.0f' % x))\n",
    "\n"
   ]
  },
  {
   "cell_type": "code",
   "execution_count": 8,
   "metadata": {},
   "outputs": [],
   "source": [
    "geom = df1[['B', 'D', 'x', 'y']].copy()\n",
    "cols = geom.columns[geom.dtypes.eq('object')]\n",
    "geom[cols] = geom[cols].apply(pd.to_numeric, errors='coerce')\n",
    "geom['Origin_x'] = geom['x'] - 0.5* geom['B']\n",
    "geom.loc[geom['y'] < 0, 'Origin_y'] = float(t_w/2)\n",
    "geom.loc[geom['y'] >= 0, 'Origin_y'] = -geom['y'] - 0.5*geom['D']\n",
    "geom.drop(geom.tail(1).index,inplace=True) # drop last n rows\n",
    "\n",
    "page_ratio = 500/max(geom['B'])\n",
    "\n",
    "x_r = geom['Origin_x']*page_ratio\n",
    "y_r = geom['Origin_y']*page_ratio\n",
    "B_r = geom['B']*page_ratio\n",
    "D_r = geom['D']*page_ratio\n",
    "Web_r = float(Web_width)*page_ratio\n",
    "h_w = float(h)*page_ratio\n",
    "\n",
    "\n",
    "#x_r2 = abs(min(geom['Origin_x']))\n",
    "# x_r3 = list(x_r + x_r2)\n",
    "# max_x = max(B_r)\n",
    "# min_y = min(y_r)\n",
    "# canvas_y = max(D_r)+float(t_w)\n",
    "# canvas_x = max(B_r)\n",
    "\n",
    "# canvas = Canvas(width=max_x, height=canvas_y)\n",
    "\n",
    "# canvas.layout.width = '100%'\n",
    "# canvas.layout.height = 'auto'\n",
    "\n",
    "# canvas.fill_style = '#808080'\n",
    "# canvas.translate(0,-min_y/2)\n",
    "# canvas.scale(0.5,y=None)\n",
    "# canvas.fill_rects(x_r3,y_r,B_r,D_r)\n",
    "# canvas"
   ]
  },
  {
   "cell_type": "code",
   "execution_count": 9,
   "metadata": {},
   "outputs": [
    {
     "data": {
      "text/html": [
       "<img src=\"data:image/svg+xml;base64,PD94bWwgdmVyc2lvbj0iMS4wIiBlbmNvZGluZz0iVVRGLTgiPz4KPHN2ZyB4bWxucz0iaHR0cDovL3d3dy53My5vcmcvMjAwMC9zdmciIHhtbG5zOnhsaW5rPSJodHRwOi8vd3d3LnczLm9yZy8xOTk5L3hsaW5rIgogICAgIHdpZHRoPSI1MDAuMCIgaGVpZ2h0PSIxNzguNTcxNDI4NTcxNDI4NiIgdmlld0JveD0iLTI1MC4wIC04OS4yODU3MTQyODU3MTQzIDUwMC4wIDE3OC41NzE0Mjg1NzE0Mjg2Ij4KPGRlZnM+CjwvZGVmcz4KPHJlY3QgeD0iLTExMS42MDcxNDI4NTcxNDI4OCIgeT0iNC40NjQyODU3MTQyODU3MDgiIHdpZHRoPSI4LjkyODU3MTQyODU3MTQzIiBoZWlnaHQ9Ijc2Ljc4NTcxNDI4NTcxNDMiIGZpbGw9IiM4MDgwODAiIHN0cm9rZS13aWR0aD0iMSIgc3Ryb2tlPSJibGFjayIgLz4KPHJlY3QgeD0iLTExMS42MDcxNDI4NTcxNDI4OCIgeT0iLTgxLjI1MDAwMDAwMDAwMDAzIiB3aWR0aD0iOC45Mjg1NzE0Mjg1NzE0MyIgaGVpZ2h0PSI3Ni43ODU3MTQyODU3MTQzIiBmaWxsPSIjODA4MDgwIiBzdHJva2Utd2lkdGg9IjEiIHN0cm9rZT0iYmxhY2siIC8+CjxyZWN0IHg9Ii01LjM1NzE0Mjg1NzE0Mjg1OCIgeT0iNC40NjQyODU3MTQyODU3MDgiIHdpZHRoPSIxMC43MTQyODU3MTQyODU3MTUiIGhlaWdodD0iNzYuNzg1NzE0Mjg1NzE0MyIgZmlsbD0iIzgwODA4MCIgc3Ryb2tlLXdpZHRoPSIxIiBzdHJva2U9ImJsYWNrIiAvPgo8cmVjdCB4PSItNS4zNTcxNDI4NTcxNDI4NTgiIHk9Ii04MS4yNTAwMDAwMDAwMDAwMyIgd2lkdGg9IjEwLjcxNDI4NTcxNDI4NTcxNSIgaGVpZ2h0PSI3Ni43ODU3MTQyODU3MTQzIiBmaWxsPSIjODA4MDgwIiBzdHJva2Utd2lkdGg9IjEiIHN0cm9rZT0iYmxhY2siIC8+CjxyZWN0IHg9IjEwMi42Nzg1NzE0Mjg1NzE0NCIgeT0iNC40NjQyODU3MTQyODU3MDgiIHdpZHRoPSI4LjkyODU3MTQyODU3MTQzIiBoZWlnaHQ9Ijc2Ljc4NTcxNDI4NTcxNDMiIGZpbGw9IiM4MDgwODAiIHN0cm9rZS13aWR0aD0iMSIgc3Ryb2tlPSJibGFjayIgLz4KPHJlY3QgeD0iMTAyLjY3ODU3MTQyODU3MTQ0IiB5PSItODEuMjUwMDAwMDAwMDAwMDMiIHdpZHRoPSI4LjkyODU3MTQyODU3MTQzIiBoZWlnaHQ9Ijc2Ljc4NTcxNDI4NTcxNDMiIGZpbGw9IiM4MDgwODAiIHN0cm9rZS13aWR0aD0iMSIgc3Ryb2tlPSJibGFjayIgLz4KPHJlY3QgeD0iLTI1MC4wIiB5PSItNC40NjQyODU3MTQyODU3MTUiIHdpZHRoPSI1MDAuMCIgaGVpZ2h0PSI4LjkyODU3MTQyODU3MTQzIiBmaWxsPSIjODA4MDgwIiBzdHJva2Utd2lkdGg9IjEiIHN0cm9rZT0iYmxhY2siIC8+Cjwvc3ZnPg==\">"
      ],
      "text/plain": [
       "<drawSvg.drawing.Drawing at 0x12cb88400>"
      ]
     },
     "metadata": {},
     "output_type": "display_data"
    }
   ],
   "source": [
    "canvas_y = 2*max(D_r)+float(t_w)\n",
    "canvas_x = max(B_r)\n",
    "\n",
    "de = draw.Drawing(canvas_x, canvas_y, origin='center', displayInline=False)\n",
    "\n",
    "\n",
    "for x1, y1, b1, d1 in zip(x_r, y_r, B_r, D_r):\n",
    "    r = draw.Rectangle(x1,y1,b1,d1, fill='#808080', stroke_width=1, stroke='black')\n",
    "    de.append(r)   \n",
    "\n",
    "display(de)\n",
    "\n",
    "\n"
   ]
  },
  {
   "cell_type": "code",
   "execution_count": null,
   "metadata": {},
   "outputs": [],
   "source": []
  },
  {
   "cell_type": "code",
   "execution_count": 10,
   "metadata": {},
   "outputs": [],
   "source": [
    "# ds = draw.Drawing(Web_r, h_w, origin='center', displayInline=False)\n",
    "# # r2 = draw.Rectangle(-Web_r/2,0,Web_r, h_w, fill='#808080')\n",
    "# # ds.append(r2) \n",
    "\n",
    "# for x1, b1 in zip(x_r, B_r):\n",
    "#     r2 = draw.Rectangle(x1,0,b1,h_w, fill='none', stroke_width=1, stroke='black')\n",
    "#     ds.append(r2) \n",
    "\n",
    "# ds\n"
   ]
  },
  {
   "cell_type": "code",
   "execution_count": 11,
   "metadata": {},
   "outputs": [
    {
     "data": {
      "text/html": [
       "<div>\n",
       "<style scoped>\n",
       "    .dataframe tbody tr th:only-of-type {\n",
       "        vertical-align: middle;\n",
       "    }\n",
       "\n",
       "    .dataframe tbody tr th {\n",
       "        vertical-align: top;\n",
       "    }\n",
       "\n",
       "    .dataframe thead th {\n",
       "        text-align: right;\n",
       "    }\n",
       "</style>\n",
       "<table border=\"1\" class=\"dataframe\">\n",
       "  <thead>\n",
       "    <tr style=\"text-align: right;\">\n",
       "      <th></th>\n",
       "      <th>name</th>\n",
       "      <th>B</th>\n",
       "      <th>D</th>\n",
       "      <th>x</th>\n",
       "      <th>y</th>\n",
       "      <th>Area</th>\n",
       "      <th>Ax</th>\n",
       "      <th>Ay</th>\n",
       "      <th>xNA</th>\n",
       "      <th>$A{x_{NA}^2}$</th>\n",
       "      <th>$I_{locyy}$</th>\n",
       "      <th>Iyy</th>\n",
       "      <th>yNA</th>\n",
       "      <th>$A{y_{NA}^2}$</th>\n",
       "      <th>$I_{locxx}$</th>\n",
       "      <th>Ixx</th>\n",
       "    </tr>\n",
       "  </thead>\n",
       "  <tbody>\n",
       "    <tr>\n",
       "      <th>0</th>\n",
       "      <td>Inner 1</td>\n",
       "      <td>25</td>\n",
       "      <td>215</td>\n",
       "      <td>-300</td>\n",
       "      <td>120</td>\n",
       "      <td>5375</td>\n",
       "      <td>-1612500</td>\n",
       "      <td>645000</td>\n",
       "      <td>-300</td>\n",
       "      <td>4.84E+08</td>\n",
       "      <td>2.80E+05</td>\n",
       "      <td>4.84E+08</td>\n",
       "      <td>120</td>\n",
       "      <td>7.74E+07</td>\n",
       "      <td>2.07E+07</td>\n",
       "      <td>9.81E+07</td>\n",
       "    </tr>\n",
       "    <tr>\n",
       "      <th>1</th>\n",
       "      <td>Outer 2</td>\n",
       "      <td>25</td>\n",
       "      <td>215</td>\n",
       "      <td>-300</td>\n",
       "      <td>-120</td>\n",
       "      <td>5375</td>\n",
       "      <td>-1612500</td>\n",
       "      <td>-645000</td>\n",
       "      <td>-300</td>\n",
       "      <td>4.84E+08</td>\n",
       "      <td>2.80E+05</td>\n",
       "      <td>4.84E+08</td>\n",
       "      <td>-120</td>\n",
       "      <td>7.74E+07</td>\n",
       "      <td>2.07E+07</td>\n",
       "      <td>9.81E+07</td>\n",
       "    </tr>\n",
       "    <tr>\n",
       "      <th>2</th>\n",
       "      <td>Brg Inner 3</td>\n",
       "      <td>30</td>\n",
       "      <td>215</td>\n",
       "      <td>0</td>\n",
       "      <td>120</td>\n",
       "      <td>6450</td>\n",
       "      <td>0</td>\n",
       "      <td>774000</td>\n",
       "      <td>0</td>\n",
       "      <td>0.00E+00</td>\n",
       "      <td>4.84E+05</td>\n",
       "      <td>4.84E+05</td>\n",
       "      <td>120</td>\n",
       "      <td>9.29E+07</td>\n",
       "      <td>2.48E+07</td>\n",
       "      <td>1.18E+08</td>\n",
       "    </tr>\n",
       "    <tr>\n",
       "      <th>3</th>\n",
       "      <td>Brg Outer 4</td>\n",
       "      <td>30</td>\n",
       "      <td>215</td>\n",
       "      <td>0</td>\n",
       "      <td>-120</td>\n",
       "      <td>6450</td>\n",
       "      <td>0</td>\n",
       "      <td>-774000</td>\n",
       "      <td>0</td>\n",
       "      <td>0.00E+00</td>\n",
       "      <td>4.84E+05</td>\n",
       "      <td>4.84E+05</td>\n",
       "      <td>-120</td>\n",
       "      <td>9.29E+07</td>\n",
       "      <td>2.48E+07</td>\n",
       "      <td>1.18E+08</td>\n",
       "    </tr>\n",
       "    <tr>\n",
       "      <th>4</th>\n",
       "      <td>Inner 5</td>\n",
       "      <td>25</td>\n",
       "      <td>215</td>\n",
       "      <td>300</td>\n",
       "      <td>120</td>\n",
       "      <td>5375</td>\n",
       "      <td>1612500</td>\n",
       "      <td>645000</td>\n",
       "      <td>300</td>\n",
       "      <td>4.84E+08</td>\n",
       "      <td>2.80E+05</td>\n",
       "      <td>4.84E+08</td>\n",
       "      <td>120</td>\n",
       "      <td>7.74E+07</td>\n",
       "      <td>2.07E+07</td>\n",
       "      <td>9.81E+07</td>\n",
       "    </tr>\n",
       "    <tr>\n",
       "      <th>5</th>\n",
       "      <td>Outer 6</td>\n",
       "      <td>25</td>\n",
       "      <td>215</td>\n",
       "      <td>300</td>\n",
       "      <td>-120</td>\n",
       "      <td>5375</td>\n",
       "      <td>1612500</td>\n",
       "      <td>-645000</td>\n",
       "      <td>300</td>\n",
       "      <td>4.84E+08</td>\n",
       "      <td>2.80E+05</td>\n",
       "      <td>4.84E+08</td>\n",
       "      <td>-120</td>\n",
       "      <td>7.74E+07</td>\n",
       "      <td>2.07E+07</td>\n",
       "      <td>9.81E+07</td>\n",
       "    </tr>\n",
       "    <tr>\n",
       "      <th>6</th>\n",
       "      <td>Web</td>\n",
       "      <td>1400</td>\n",
       "      <td>25</td>\n",
       "      <td>0</td>\n",
       "      <td>0</td>\n",
       "      <td>35000</td>\n",
       "      <td>0</td>\n",
       "      <td>0</td>\n",
       "      <td>0</td>\n",
       "      <td>0.00E+00</td>\n",
       "      <td>5.72E+09</td>\n",
       "      <td>5.72E+09</td>\n",
       "      <td>0</td>\n",
       "      <td>0.00E+00</td>\n",
       "      <td>1.82E+06</td>\n",
       "      <td>1.82E+06</td>\n",
       "    </tr>\n",
       "    <tr>\n",
       "      <th>Total</th>\n",
       "      <td></td>\n",
       "      <td></td>\n",
       "      <td></td>\n",
       "      <td></td>\n",
       "      <td></td>\n",
       "      <td>69400</td>\n",
       "      <td>0</td>\n",
       "      <td>0</td>\n",
       "      <td></td>\n",
       "      <td>1.94E+09</td>\n",
       "      <td>5.72E+09</td>\n",
       "      <td>7.65E+09</td>\n",
       "      <td></td>\n",
       "      <td>4.95E+08</td>\n",
       "      <td>1.34E+08</td>\n",
       "      <td>6.30E+08</td>\n",
       "    </tr>\n",
       "  </tbody>\n",
       "</table>\n",
       "</div>"
      ],
      "text/plain": [
       "              name    B   D    x    y  Area       Ax      Ay  xNA  \\\n",
       "0          Inner 1   25 215 -300  120  5375 -1612500  645000 -300   \n",
       "1          Outer 2   25 215 -300 -120  5375 -1612500 -645000 -300   \n",
       "2      Brg Inner 3   30 215    0  120  6450        0  774000    0   \n",
       "3      Brg Outer 4   30 215    0 -120  6450        0 -774000    0   \n",
       "4          Inner 5   25 215  300  120  5375  1612500  645000  300   \n",
       "5          Outer 6   25 215  300 -120  5375  1612500 -645000  300   \n",
       "6              Web 1400  25    0    0 35000        0       0    0   \n",
       "Total                                 69400        0       0        \n",
       "\n",
       "      $A{x_{NA}^2}$ $I_{locyy}$       Iyy  yNA $A{y_{NA}^2}$ $I_{locxx}$  \\\n",
       "0          4.84E+08    2.80E+05  4.84E+08  120      7.74E+07    2.07E+07   \n",
       "1          4.84E+08    2.80E+05  4.84E+08 -120      7.74E+07    2.07E+07   \n",
       "2          0.00E+00    4.84E+05  4.84E+05  120      9.29E+07    2.48E+07   \n",
       "3          0.00E+00    4.84E+05  4.84E+05 -120      9.29E+07    2.48E+07   \n",
       "4          4.84E+08    2.80E+05  4.84E+08  120      7.74E+07    2.07E+07   \n",
       "5          4.84E+08    2.80E+05  4.84E+08 -120      7.74E+07    2.07E+07   \n",
       "6          0.00E+00    5.72E+09  5.72E+09    0      0.00E+00    1.82E+06   \n",
       "Total      1.94E+09    5.72E+09  7.65E+09           4.95E+08    1.34E+08   \n",
       "\n",
       "            Ixx  \n",
       "0      9.81E+07  \n",
       "1      9.81E+07  \n",
       "2      1.18E+08  \n",
       "3      1.18E+08  \n",
       "4      9.81E+07  \n",
       "5      9.81E+07  \n",
       "6      1.82E+06  \n",
       "Total  6.30E+08  "
      ]
     },
     "metadata": {},
     "output_type": "display_data"
    }
   ],
   "source": [
    "display(df1)"
   ]
  },
  {
   "cell_type": "code",
   "execution_count": null,
   "metadata": {},
   "outputs": [],
   "source": []
  },
  {
   "cell_type": "code",
   "execution_count": null,
   "metadata": {},
   "outputs": [],
   "source": []
  },
  {
   "cell_type": "markdown",
   "metadata": {},
   "source": [
    "Summary of section properties:"
   ]
  },
  {
   "cell_type": "code",
   "execution_count": 12,
   "metadata": {},
   "outputs": [
    {
     "data": {
      "text/latex": [
       "\\[\n",
       "\\begin{aligned}\n",
       "\\mathrm{Iyy} &= 15307507916.7\\ \\text{mm}^{4} \\; \n",
       " &\\mathrm{Ixx} &= 1259389166.7\\ \\text{mm}^{4} \\; \n",
       " &A &= 69400.0\\ \\text{mm}^{2} \\; \n",
       "\\\\[10pt]\\end{aligned}\n",
       "\\]"
      ],
      "text/plain": [
       "<IPython.core.display.Latex object>"
      ]
     },
     "metadata": {},
     "output_type": "display_data"
    }
   ],
   "source": [
    "%%render params 1\n",
    "Iyy = Iyy*mm**4\n",
    "Ixx = Ixx*mm**4\n",
    "A = A*mm**2"
   ]
  },
  {
   "cell_type": "code",
   "execution_count": null,
   "metadata": {},
   "outputs": [],
   "source": []
  },
  {
   "cell_type": "markdown",
   "metadata": {},
   "source": [
    "## Tension field action <a name=\"a\"></a>\n",
    "Prior to collapse, vierendeel type action within a web panel causes additional forces within the stiffeners that border the web panel. If the web panels are subject to shear buckling, the stiffeners can contribute to improving the resistance of the girder near failure.   \n",
    "![Figure 2](figure2.jpg)  \n",
    "  \n",
    "\n",
    "### British standard method  \n",
    "\n",
    "Axial force due to tension field action in accordance with 9.13.3.2;  \n",
    "Tension field action should be assumed to occur in any web panel when the average shear stress in the web panel, τ (from 9.5.1) is greater than $τ_{O}$, given by:\n",
    "\n",
    "$ \\tau_O = 3.6E(1+\\frac{b}{a})(\\frac{t_w}{b})^2 \\sqrt{1- \\frac{\\sigma_1}{2.9E}(\\frac{b}{t_w})^2}$       \n",
    "\n",
    "when $ \\sigma_1 < 2.9E(\\frac{t_w}{b})^2$ or  \n",
    "\n",
    "$ \\tau_O = 0 $\n",
    "\n",
    "when $ \\sigma_1 \\geq 2.9E(\\frac{t_w}{b})^2$\n",
    "\n",
    "\n"
   ]
  },
  {
   "cell_type": "markdown",
   "metadata": {},
   "source": [
    "firstly, define $\\sigma_1$ the average longitudinal stress in the panel, taken as positive for compression.  "
   ]
  },
  {
   "cell_type": "code",
   "execution_count": 13,
   "metadata": {},
   "outputs": [
    {
     "data": {
      "text/latex": [
       "\\[\n",
       "\\begin{aligned}\n",
       "\\sigma_{1} &= \\frac{ \\sigma_{Tweb} + \\sigma_{Bweb} }{ 2 }  = \\frac{ -281.0\\ \\text{MPa} + 248.0\\ \\text{MPa} }{ 2 } &= -16.5\\ \\text{MPa}  \n",
       "\\end{aligned}\n",
       "\\]"
      ],
      "text/plain": [
       "<IPython.core.display.Latex object>"
      ]
     },
     "metadata": {},
     "output_type": "display_data"
    }
   ],
   "source": [
    "%%render precision 1\n",
    "\n",
    "sigma_1 = (sigma_Tweb + sigma_Bweb)/2"
   ]
  },
  {
   "cell_type": "code",
   "execution_count": 14,
   "metadata": {},
   "outputs": [
    {
     "data": {
      "text/latex": [
       "\\[\n",
       "\\begin{aligned}\n",
       "\\sigma_{1limit} &= 2.9 \\cdot E \\cdot \\left( \\frac{ t_{w} }{ b } \\right) ^{ 2 }  = 2.9 \\cdot 205.0\\ \\text{GPa} \\cdot \\left( \\frac{ 25.0\\ \\text{mm} }{ 1850.0\\ \\text{mm} } \\right) ^{ 2 } &= 108.6\\ \\text{MPa}  \n",
       "\\end{aligned}\n",
       "\\]"
      ],
      "text/plain": [
       "<IPython.core.display.Latex object>"
      ]
     },
     "metadata": {},
     "output_type": "display_data"
    }
   ],
   "source": [
    "%%render precision 1\n",
    "sigma_1limit = 2.9*E*(t_w/b)**2"
   ]
  },
  {
   "cell_type": "code",
   "execution_count": 15,
   "metadata": {},
   "outputs": [
    {
     "data": {
      "text/latex": [
       "\\[\n",
       "\\begin{aligned}\n",
       "&\\text{Since, } \\sigma_{1} \\lt \\sigma_{1limit} \\rightarrow \\left( -16.5\\ \\text{MPa} \\lt 108.6\\ \\text{MPa} \\right) :   \\end{aligned}\n",
       "\\]\n",
       "\\[\n",
       "\\begin{aligned}\n",
       "\\tau_{O} &= 3.6 \\cdot E \\cdot \\left( 1 + \\left( \\frac{ b }{ a } \\right) ^{ 2 } \\right) \\cdot \\left( \\frac{ t_{w} }{ b } \\right) ^{ 2 } \\cdot \\sqrt { 1 - \\frac{ \\sigma_{1} }{ 2.9 \\cdot E } \\cdot \\left( \\frac{ b }{ t_{w} } \\right) ^{ 2 } } \\\\&= 3.6 \\cdot 205.0\\ \\text{GPa} \\cdot \\left( 1 + \\left( \\frac{ 1850.0\\ \\text{mm} }{ 3000.0\\ \\text{mm} } \\right) ^{ 2 } \\right) \\cdot \\left( \\frac{ 25.0\\ \\text{mm} }{ 1850.0\\ \\text{mm} } \\right) ^{ 2 } \\cdot \\sqrt { 1 - \\frac{ -16.5\\ \\text{MPa} }{ 2.9 \\cdot 205.0\\ \\text{GPa} } \\cdot \\left( \\frac{ 1850.0\\ \\text{mm} }{ 25.0\\ \\text{mm} } \\right) ^{ 2 } } \\\\&= 199.7\\ \\text{MPa}  \\\\\n",
       "\\end{aligned}\n",
       "\\]"
      ],
      "text/plain": [
       "<IPython.core.display.Latex object>"
      ]
     },
     "metadata": {},
     "output_type": "display_data"
    }
   ],
   "source": [
    "%%render precision 1\n",
    "\n",
    "if sigma_1 < sigma_1limit: tau_O = 3.6*E*(1+(b/a)**2)*((t_w/b)**2)*sqrt(1- sigma_1/(2.9*E) *(b/t_w)**2)\n",
    "elif sigma_1 >= sigma_1limit: tau_O=0  \n",
    "    "
   ]
  },
  {
   "cell_type": "markdown",
   "metadata": {},
   "source": [
    "Tension field action should be assumed to cause a compressive force $F_{tw}$ in the adjacent transverse stiffener over its entire length, given by:"
   ]
  },
  {
   "cell_type": "code",
   "execution_count": 16,
   "metadata": {},
   "outputs": [
    {
     "data": {
      "text/latex": [
       "\\[\n",
       "\\begin{aligned}\n",
       "F_{tw} &= \\operatorname{min} { \\left( \\left( \\tau - \\tau_{O} \\right) \\cdot t_{w} \\cdot a ,\\  \\left( \\tau - \\tau_{O} \\right) \\cdot t_{w} \\cdot l_{s} \\right) } \\\\&= \\operatorname{min} { \\left( \\left( 129.7\\ \\text{MPa} - 199.7\\ \\text{MPa} \\right) \\cdot 25.0\\ \\text{mm} \\cdot 3000.0\\ \\text{mm} ,\\  \\left( 129.7\\ \\text{MPa} - 199.7\\ \\text{MPa} \\right) \\cdot 25.0\\ \\text{mm} \\cdot 1850.0\\ \\text{mm} \\right) } \\\\&= -5244.5\\ \\text{kN}  \\\\\n",
       "\\end{aligned}\n",
       "\\]"
      ],
      "text/plain": [
       "<IPython.core.display.Latex object>"
      ]
     },
     "metadata": {},
     "output_type": "display_data"
    }
   ],
   "source": [
    "%%render 1\n",
    "F_tw = min((tau - tau_O)*t_w*a,(tau - tau_O)*t_w*l_s).prefix('k')\n"
   ]
  },
  {
   "cell_type": "code",
   "execution_count": 17,
   "metadata": {},
   "outputs": [
    {
     "data": {
      "text/latex": [
       "\\[\n",
       "\\begin{aligned}\n",
       "&\\text{Since, } F_{tw} \\leq 0 \\rightarrow \\left( 0 \\leq 0 \\right) :   \\end{aligned}\n",
       "\\]\n",
       "\\[\n",
       "\\begin{aligned}\n",
       "F_{tw} &= 0 \\; \n",
       "\\end{aligned}\n",
       "\\]"
      ],
      "text/plain": [
       "<IPython.core.display.Latex object>"
      ]
     },
     "metadata": {},
     "output_type": "display_data"
    }
   ],
   "source": [
    "%%render 1\n",
    "if F_tw > 0: F_tw\n",
    "elif F_tw <= 0: F_tw =0"
   ]
  },
  {
   "cell_type": "markdown",
   "metadata": {},
   "source": [
    "There is a net tensile force in the section, therefore the effect of tension field action is zero. this makes sense, as the web is subject to a net tension, therefore plate buckling is not an issue.\n",
    "\n",
    "### Eurocode method\n",
    "\n",
    "\n"
   ]
  },
  {
   "cell_type": "markdown",
   "metadata": {},
   "source": [
    "## Destabilising effect of the web\n",
    "\n",
    "In order to resist buckling of the web plate the effective stiffener section should be assumed to carry, along its centroidal axis, a compressive force $F_wi$ given by Cl. 9.13.3.3: \n",
    "\n",
    "$F_{wi} = \\frac{l_s^2}{a}t_w k_s \\sigma_R$  \n",
    "  \n",
    "Where $k_s$ is determined using the parameter $\\lambda$  \n",
    "\n",
    "![Figure 1](figure1.jpg)\n"
   ]
  },
  {
   "cell_type": "code",
   "execution_count": 18,
   "metadata": {},
   "outputs": [
    {
     "data": {
      "text/latex": [
       "\\[\n",
       "\\begin{aligned}\n",
       "r_{se} &= \\sqrt { \\frac{ \\mathrm{Ixx} }{ A } } \\cdot \\mathrm{mm}  = \\sqrt { \\frac{ 1259389166.7\\ \\text{mm}^{4} }{ 69400.0\\ \\text{mm}^{2} } } \\cdot mm &= 134.7\\ \\text{mm}  \n",
       "\\\\[10pt]\n",
       "\\sigma_{ys} &= 345.0\\ \\text{MPa} \\; \n",
       "\\end{aligned}\n",
       "\\]"
      ],
      "text/plain": [
       "<IPython.core.display.Latex object>"
      ]
     },
     "metadata": {},
     "output_type": "display_data"
    }
   ],
   "source": [
    "%%render 1\n",
    "r_se = sqrt(Ixx/A)*mm\n",
    "sigma_ys = (345*MPa)\n",
    "\n"
   ]
  },
  {
   "cell_type": "markdown",
   "metadata": {},
   "source": [
    "Annex G.13 gives formulae for determining the curves in Figure 24."
   ]
  },
  {
   "cell_type": "code",
   "execution_count": 19,
   "metadata": {},
   "outputs": [
    {
     "data": {
      "text/latex": [
       "\\[\n",
       "\\begin{aligned}\n",
       "\\lambda &= \\left( \\frac{ l_{s} }{ r_{se} } \\right) \\cdot \\sqrt { \\frac{ \\sigma_{ys} }{ 355 \\cdot \\mathrm{MPa} } }  = \\left( \\frac{ 1850.0\\ \\text{mm} }{ 134.7\\ \\text{mm} } \\right) \\cdot \\sqrt { \\frac{ 345.0\\ \\text{MPa} }{ 355 \\cdot MPa } } &= 13.5  \n",
       "\\\\[10pt]\n",
       "n &= 0.008 \\cdot 3 \\cdot \\left( \\lambda - 15 \\right)  = 0.008 \\cdot 3 \\cdot \\left( 13.5 - 15 \\right) &= 0  \n",
       "\\\\[10pt]\n",
       "&\\text{Since, } \\lambda \\leq 15 \\rightarrow \\left( 13.5 \\leq 15 \\right) :   \\end{aligned}\n",
       "\\]\n",
       "\\[\n",
       "\\begin{aligned}\n",
       "\\\\[10pt]\n",
       "n &= 0 \\; \n",
       "\\\\[10pt]\n",
       "\\sigma_{l} &= 0.5 \\cdot \\left( \\left( 1 + \\left( 1 + n \\right) \\cdot \\frac{ 5700 }{ \\left( \\lambda \\right) ^{ 2 } } \\right) - \\sqrt { \\left( 1 + \\left( 1 + n \\right) \\cdot \\frac{ 5700 }{ \\left( \\lambda \\right) ^{ 2 } } \\right) ^{ 2 } - \\frac{ 22800 }{ \\left( \\lambda \\right) ^{ 2 } } } \\right) \\\\&= 0.5 \\cdot \\left( \\left( 1 + \\left( 1 + 0 \\right) \\cdot \\frac{ 5700 }{ \\left( 13.5 \\right) ^{ 2 } } \\right) - \\sqrt { \\left( 1 + \\left( 1 + 0 \\right) \\cdot \\frac{ 5700 }{ \\left( 13.5 \\right) ^{ 2 } } \\right) ^{ 2 } - \\frac{ 22800 }{ \\left( 13.5 \\right) ^{ 2 } } } \\right) \\\\&= 1.0  \\\\\n",
       "\\\\[10pt]\n",
       "k_{s} &= 0.4 \\cdot \\sigma_{l} \\cdot \\left( n + 1.7546 \\times 10 ^ {-4 } \\cdot \\left( \\lambda \\right) ^{ 2 } \\right) \\\\&= 0.4 \\cdot 1.0 \\cdot \\left( 0 + 1.7546 \\times 10 ^ {-4 } \\cdot \\left( 13.5 \\right) ^{ 2 } \\right) \\\\&= 1.3 \\times 10 ^ {-2 }  \\\\\n",
       "\\end{aligned}\n",
       "\\]"
      ],
      "text/plain": [
       "<IPython.core.display.Latex object>"
      ]
     },
     "metadata": {},
     "output_type": "display_data"
    }
   ],
   "source": [
    "%%render 1\n",
    "lamb = (l_s/r_se)*sqrt(sigma_ys/(355*MPa))\n",
    "\n",
    "if lamb > 15:\n",
    "    n = 0.008*3*(lamb - 15)\n",
    "elif lamb <= 15:\n",
    "    n=0\n",
    "\n",
    "sigma_l = 0.5*((1+(1+n)*5700/(lamb**2))- sqrt((1+(1+n)*5700/(lamb**2))**2 - 22800/(lamb**2)))\n",
    "\n",
    "k_s = 0.4 * sigma_l *(n +(1.7546e-4)*lamb**2)"
   ]
  },
  {
   "cell_type": "code",
   "execution_count": 20,
   "metadata": {},
   "outputs": [
    {
     "data": {
      "text/latex": [
       "\\[\n",
       "\\begin{aligned}\n",
       "\\tau_{r} &= 129.7\\ \\text{MPa} \\; \n",
       " &A_{s} &= 0.0\\ \\text{m}^{2} \\; \\;\\textrm{(Sum of the area of longitudinal stiffeners on the web)}\n",
       " &\\sigma_{b} &= 281.0\\ \\text{MPa} \\; \n",
       "\\\\[10pt]\\end{aligned}\n",
       "\\]"
      ],
      "text/plain": [
       "<IPython.core.display.Latex object>"
      ]
     },
     "metadata": {},
     "output_type": "display_data"
    }
   ],
   "source": [
    "%%render params 1\n",
    "#short\n",
    "tau_r = min(tau,tau_O)\n",
    "A_s = 0*mm**2 # Sum of the area of longitudinal stiffeners on the web\n",
    "sigma_b = (max(abs(sigma_Tweb),abs(sigma_Bweb)))\n"
   ]
  },
  {
   "cell_type": "code",
   "execution_count": 21,
   "metadata": {},
   "outputs": [
    {
     "data": {
      "text/latex": [
       "\\[\n",
       "\\begin{aligned}\n",
       "\\sigma_{R} &= \\tau_{r} + \\left( 1 + \\frac{ A_{s} }{ l_{s} \\cdot t_{w} } \\right) \\cdot \\left( \\sigma_{1} + \\frac{ \\sigma_{b} }{ 6 } \\right)  = 129.7\\ \\text{MPa} + \\left( 1 + \\frac{ 0.0\\ \\text{m}^{2} }{ 1850.0\\ \\text{mm} \\cdot 25.0\\ \\text{mm} } \\right) \\cdot \\left( -16.5\\ \\text{MPa} + \\frac{ 281.0\\ \\text{MPa} }{ 6 } \\right) &= 160.1\\ \\text{MPa}  \n",
       "\\end{aligned}\n",
       "\\]"
      ],
      "text/plain": [
       "<IPython.core.display.Latex object>"
      ]
     },
     "metadata": {},
     "output_type": "display_data"
    }
   ],
   "source": [
    "%%render 1\n",
    "sigma_R = tau_r + (1 + A_s/(l_s * t_w)) * (sigma_1 + sigma_b/6)"
   ]
  },
  {
   "cell_type": "markdown",
   "metadata": {},
   "source": [
    "Now that we have all of the variables we can calculate $F_{wi}$:  "
   ]
  },
  {
   "cell_type": "code",
   "execution_count": 22,
   "metadata": {},
   "outputs": [
    {
     "data": {
      "text/latex": [
       "\\[\n",
       "\\begin{aligned}\n",
       "F_{wi} &= \\left( l_{s} \\cdot \\frac{ l_{s} }{ a } \\right) \\cdot t_{w} \\cdot k_{s} \\cdot \\sigma_{R}  = \\left( 1850.0\\ \\text{mm} \\cdot \\frac{ 1850.0\\ \\text{mm} }{ 3000.0\\ \\text{mm} } \\right) \\cdot 25.0\\ \\text{mm} \\cdot 1.3 \\times 10 ^ {-2 } \\cdot 160.1\\ \\text{MPa} &= 58.7\\ \\text{kN}  \n",
       "\\end{aligned}\n",
       "\\]"
      ],
      "text/plain": [
       "<IPython.core.display.Latex object>"
      ]
     },
     "metadata": {},
     "output_type": "display_data"
    }
   ],
   "source": [
    "%%render 1\n",
    "F_wi = (l_s*l_s/a)*t_w*k_s*sigma_R\n"
   ]
  },
  {
   "cell_type": "code",
   "execution_count": 23,
   "metadata": {},
   "outputs": [],
   "source": [
    "F_wi2 = int(F_wi)\n"
   ]
  },
  {
   "cell_type": "markdown",
   "metadata": {},
   "source": [
    "$F_{wi}$ is to be applied as a compressive force about the centroid of the stiffener."
   ]
  },
  {
   "cell_type": "markdown",
   "metadata": {},
   "source": [
    "## Axial force due to transfer of load through a cross frame/beam;\n",
    "\n",
    "The bearing stiffeners also resist bending of the diaphragm cross girders.\n",
    "\n",
    "The vertical force is considered within the bearing reaction, however the bending moment due hog at the connection will cause the the stiffeners to bend."
   ]
  },
  {
   "cell_type": "code",
   "execution_count": 24,
   "metadata": {},
   "outputs": [],
   "source": [
    "df2 = df[df['name'].str.match('Brg')]\n",
    "Ixx_Brg = (df2.Ixx.sum())*mm**4\n",
    "Y_Brg = (df2.D.min())*mm\n",
    "\n",
    "\n"
   ]
  },
  {
   "cell_type": "code",
   "execution_count": 25,
   "metadata": {},
   "outputs": [
    {
     "data": {
      "text/latex": [
       "\\[\n",
       "\\begin{aligned}\n",
       "\\mathrm{Ixx}_{Brg} &= 235451875.0\\ \\text{mm}^{4} \\; \n",
       "\\\\[10pt]\n",
       "\\mathrm{Zxx}_{Brg} &= \\frac{ \\mathrm{Ixx}_{Brg} }{ Y_{Brg} }  = \\frac{ 235451875.0\\ \\text{mm}^{4} }{ 215.0\\ \\text{mm} } &= 1095125.0\\ \\text{mm}^{3}  \n",
       "\\\\[10pt]\n",
       "M_{ED} &= 300 \\cdot \\mathrm{kNm}  = 300 \\cdot 1.0\\ \\text{kN} \\cdot \\text{m} &= 300.0\\ \\text{kN} \\cdot \\text{m}  \n",
       "\\\\[10pt]\n",
       "\\sigma_{c} &= \\frac{ M_{ED} }{ \\mathrm{Zxx}_{Brg} }  = \\frac{ 300.0\\ \\text{kN} \\cdot \\text{m} }{ 1095125.0\\ \\text{mm}^{3} } &= 273.9\\ \\text{MPa}  \n",
       "\\end{aligned}\n",
       "\\]"
      ],
      "text/plain": [
       "<IPython.core.display.Latex object>"
      ]
     },
     "metadata": {},
     "output_type": "display_data"
    }
   ],
   "source": [
    "%%render 1\n",
    "\n",
    "Ixx_Brg \n",
    "\n",
    "Zxx_Brg = Ixx_Brg/(Y_Brg)\n",
    "\n",
    "M_ED = 300*kNm\n",
    "\n",
    "sigma_c = M_ED/Zxx_Brg\n",
    "\n"
   ]
  },
  {
   "cell_type": "code",
   "execution_count": 26,
   "metadata": {},
   "outputs": [
    {
     "name": "stdout",
     "output_type": "stream",
     "text": [
      "[NbConvertApp] WARNING | Config option `kernel_spec_manager_class` not recognized by `NbConvertApp`.\n",
      "[NbConvertApp] Converting notebook Brg.ipynb to html\n",
      "[NbConvertApp] Writing 297070 bytes to Brg.html\n"
     ]
    }
   ],
   "source": [
    "# !jupyter nbconvert Brg.ipynb\n",
    "#!jupyter nbconvert --to html_toc --no-input Brg.ipynb\n",
    "!jupyter nbconvert --to html --no-input Brg.ipynb --TemplateExporter.exclude_input=True --no-prompt \n",
    "\n",
    "# adding the bits at the ends aligns all of the text\n",
    "\n",
    "# https://stackoverflow.com/questions/21151450/how-can-i-add-a-table-of-contents-to-a-jupyter-jupyterlab-notebook"
   ]
  },
  {
   "cell_type": "code",
   "execution_count": 1,
   "metadata": {},
   "outputs": [
    {
     "name": "stdout",
     "output_type": "stream",
     "text": [
      "[NbConvertApp] WARNING | Config option `kernel_spec_manager_class` not recognized by `NbConvertApp`.\n",
      "[NbConvertApp] Converting notebook Brg.ipynb to pdf\n",
      "[NbConvertApp] Writing 32790 bytes to ./notebook.tex\n",
      "[NbConvertApp] Building PDF\n",
      "[NbConvertApp] Running xelatex 3 times: ['xelatex', './notebook.tex', '-quiet']\n",
      "[NbConvertApp] CRITICAL | xelatex failed: ['xelatex', './notebook.tex', '-quiet']\n",
      "This is XeTeX, Version 3.14159265-2.6-0.999992 (TeX Live 2020) (preloaded format=xelatex)\n",
      " restricted \\write18 enabled.\n",
      "entering extended mode\n",
      "(./notebook.tex\n",
      "LaTeX2e <2020-02-02> patch level 5\n",
      "L3 programming layer <2020-03-06>\n",
      "(/usr/local/texlive/2020/texmf-dist/tex/latex/base/article.cls\n",
      "Document Class: article 2019/12/20 v1.4l Standard LaTeX document class\n",
      "(/usr/local/texlive/2020/texmf-dist/tex/latex/base/size11.clo))\n",
      "(/usr/local/texlive/2020/texmf-dist/tex/latex/tcolorbox/tcolorbox.sty\n",
      "(/usr/local/texlive/2020/texmf-dist/tex/latex/pgf/basiclayer/pgf.sty\n",
      "(/usr/local/texlive/2020/texmf-dist/tex/latex/pgf/utilities/pgfrcs.sty\n",
      "(/usr/local/texlive/2020/texmf-dist/tex/generic/pgf/utilities/pgfutil-common.te\n",
      "x\n",
      "(/usr/local/texlive/2020/texmf-dist/tex/generic/pgf/utilities/pgfutil-common-li\n",
      "sts.tex))\n",
      "(/usr/local/texlive/2020/texmf-dist/tex/generic/pgf/utilities/pgfutil-latex.def\n",
      "(/usr/local/texlive/2020/texmf-dist/tex/latex/ms/everyshi.sty))\n",
      "(/usr/local/texlive/2020/texmf-dist/tex/generic/pgf/utilities/pgfrcs.code.tex\n",
      "(/usr/local/texlive/2020/texmf-dist/tex/generic/pgf/pgf.revision.tex)))\n",
      "(/usr/local/texlive/2020/texmf-dist/tex/latex/pgf/basiclayer/pgfcore.sty\n",
      "(/usr/local/texlive/2020/texmf-dist/tex/latex/graphics/graphicx.sty\n",
      "(/usr/local/texlive/2020/texmf-dist/tex/latex/graphics/keyval.sty)\n",
      "(/usr/local/texlive/2020/texmf-dist/tex/latex/graphics/graphics.sty\n",
      "(/usr/local/texlive/2020/texmf-dist/tex/latex/graphics/trig.sty)\n",
      "(/usr/local/texlive/2020/texmf-dist/tex/latex/graphics-cfg/graphics.cfg)\n",
      "(/usr/local/texlive/2020/texmf-dist/tex/latex/graphics-def/xetex.def)))\n",
      "(/usr/local/texlive/2020/texmf-dist/tex/latex/pgf/systemlayer/pgfsys.sty\n",
      "(/usr/local/texlive/2020/texmf-dist/tex/generic/pgf/systemlayer/pgfsys.code.tex\n",
      "(/usr/local/texlive/2020/texmf-dist/tex/generic/pgf/utilities/pgfkeys.code.tex\n",
      "(/usr/local/texlive/2020/texmf-dist/tex/generic/pgf/utilities/pgfkeysfiltered.c\n",
      "ode.tex))\n",
      "(/usr/local/texlive/2020/texmf-dist/tex/generic/pgf/systemlayer/pgf.cfg)\n",
      "(/usr/local/texlive/2020/texmf-dist/tex/generic/pgf/systemlayer/pgfsys-xetex.de\n",
      "f\n",
      "(/usr/local/texlive/2020/texmf-dist/tex/generic/pgf/systemlayer/pgfsys-dvipdfmx\n",
      ".def\n",
      "(/usr/local/texlive/2020/texmf-dist/tex/generic/pgf/systemlayer/pgfsys-common-p\n",
      "df.def))))\n",
      "(/usr/local/texlive/2020/texmf-dist/tex/generic/pgf/systemlayer/pgfsyssoftpath.\n",
      "code.tex)\n",
      "(/usr/local/texlive/2020/texmf-dist/tex/generic/pgf/systemlayer/pgfsysprotocol.\n",
      "code.tex)) (/usr/local/texlive/2020/texmf-dist/tex/latex/xcolor/xcolor.sty\n",
      "(/usr/local/texlive/2020/texmf-dist/tex/latex/graphics-cfg/color.cfg))\n",
      "(/usr/local/texlive/2020/texmf-dist/tex/generic/pgf/basiclayer/pgfcore.code.tex\n",
      "(/usr/local/texlive/2020/texmf-dist/tex/generic/pgf/math/pgfmath.code.tex\n",
      "(/usr/local/texlive/2020/texmf-dist/tex/generic/pgf/math/pgfmathcalc.code.tex\n",
      "(/usr/local/texlive/2020/texmf-dist/tex/generic/pgf/math/pgfmathutil.code.tex)\n",
      "(/usr/local/texlive/2020/texmf-dist/tex/generic/pgf/math/pgfmathparser.code.tex\n",
      ")\n",
      "(/usr/local/texlive/2020/texmf-dist/tex/generic/pgf/math/pgfmathfunctions.code.\n",
      "tex\n",
      "(/usr/local/texlive/2020/texmf-dist/tex/generic/pgf/math/pgfmathfunctions.basic\n",
      ".code.tex)\n",
      "(/usr/local/texlive/2020/texmf-dist/tex/generic/pgf/math/pgfmathfunctions.trigo\n",
      "nometric.code.tex)\n",
      "(/usr/local/texlive/2020/texmf-dist/tex/generic/pgf/math/pgfmathfunctions.rando\n",
      "m.code.tex)\n",
      "(/usr/local/texlive/2020/texmf-dist/tex/generic/pgf/math/pgfmathfunctions.compa\n",
      "rison.code.tex)\n",
      "(/usr/local/texlive/2020/texmf-dist/tex/generic/pgf/math/pgfmathfunctions.base.\n",
      "code.tex)\n",
      "(/usr/local/texlive/2020/texmf-dist/tex/generic/pgf/math/pgfmathfunctions.round\n",
      ".code.tex)\n",
      "(/usr/local/texlive/2020/texmf-dist/tex/generic/pgf/math/pgfmathfunctions.misc.\n",
      "code.tex)\n",
      "(/usr/local/texlive/2020/texmf-dist/tex/generic/pgf/math/pgfmathfunctions.integ\n",
      "erarithmetics.code.tex)))\n",
      "(/usr/local/texlive/2020/texmf-dist/tex/generic/pgf/math/pgfmathfloat.code.tex)\n",
      ") (/usr/local/texlive/2020/texmf-dist/tex/generic/pgf/math/pgfint.code.tex)\n",
      "(/usr/local/texlive/2020/texmf-dist/tex/generic/pgf/basiclayer/pgfcorepoints.co\n",
      "de.tex)\n",
      "(/usr/local/texlive/2020/texmf-dist/tex/generic/pgf/basiclayer/pgfcorepathconst\n",
      "ruct.code.tex)\n",
      "(/usr/local/texlive/2020/texmf-dist/tex/generic/pgf/basiclayer/pgfcorepathusage\n",
      ".code.tex)\n",
      "(/usr/local/texlive/2020/texmf-dist/tex/generic/pgf/basiclayer/pgfcorescopes.co\n",
      "de.tex)\n",
      "(/usr/local/texlive/2020/texmf-dist/tex/generic/pgf/basiclayer/pgfcoregraphicst\n",
      "ate.code.tex)\n",
      "(/usr/local/texlive/2020/texmf-dist/tex/generic/pgf/basiclayer/pgfcoretransform\n",
      "ations.code.tex)\n",
      "(/usr/local/texlive/2020/texmf-dist/tex/generic/pgf/basiclayer/pgfcorequick.cod\n",
      "e.tex)\n",
      "(/usr/local/texlive/2020/texmf-dist/tex/generic/pgf/basiclayer/pgfcoreobjects.c\n",
      "ode.tex)\n",
      "(/usr/local/texlive/2020/texmf-dist/tex/generic/pgf/basiclayer/pgfcorepathproce\n",
      "ssing.code.tex)\n",
      "(/usr/local/texlive/2020/texmf-dist/tex/generic/pgf/basiclayer/pgfcorearrows.co\n",
      "de.tex)\n",
      "(/usr/local/texlive/2020/texmf-dist/tex/generic/pgf/basiclayer/pgfcoreshade.cod\n",
      "e.tex)\n",
      "(/usr/local/texlive/2020/texmf-dist/tex/generic/pgf/basiclayer/pgfcoreimage.cod\n",
      "e.tex\n",
      "(/usr/local/texlive/2020/texmf-dist/tex/generic/pgf/basiclayer/pgfcoreexternal.\n",
      "code.tex))\n",
      "(/usr/local/texlive/2020/texmf-dist/tex/generic/pgf/basiclayer/pgfcorelayers.co\n",
      "de.tex)\n",
      "(/usr/local/texlive/2020/texmf-dist/tex/generic/pgf/basiclayer/pgfcoretranspare\n",
      "ncy.code.tex)\n",
      "(/usr/local/texlive/2020/texmf-dist/tex/generic/pgf/basiclayer/pgfcorepatterns.\n",
      "code.tex)\n",
      "(/usr/local/texlive/2020/texmf-dist/tex/generic/pgf/basiclayer/pgfcorerdf.code.\n",
      "tex)))\n",
      "(/usr/local/texlive/2020/texmf-dist/tex/generic/pgf/modules/pgfmoduleshapes.cod\n",
      "e.tex)\n",
      "(/usr/local/texlive/2020/texmf-dist/tex/generic/pgf/modules/pgfmoduleplot.code.\n",
      "tex)\n",
      "(/usr/local/texlive/2020/texmf-dist/tex/latex/pgf/compatibility/pgfcomp-version\n",
      "-0-65.sty)\n",
      "(/usr/local/texlive/2020/texmf-dist/tex/latex/pgf/compatibility/pgfcomp-version\n",
      "-1-18.sty)) (/usr/local/texlive/2020/texmf-dist/tex/latex/tools/verbatim.sty)\n",
      "(/usr/local/texlive/2020/texmf-dist/tex/latex/environ/environ.sty\n",
      "(/usr/local/texlive/2020/texmf-dist/tex/latex/trimspaces/trimspaces.sty))\n",
      "(/usr/local/texlive/2020/texmf-dist/tex/latex/etoolbox/etoolbox.sty)\n",
      "(/usr/local/texlive/2020/texmf-dist/tex/latex/tcolorbox/tcbbreakable.code.tex\n",
      "Library (tcolorbox): 'tcbbreakable.code.tex' version '4.22'\n",
      ")) (/usr/local/texlive/2020/texmf-dist/tex/latex/parskip/parskip.sty\n",
      "(/usr/local/texlive/2020/texmf-dist/tex/latex/kvoptions/kvoptions.sty\n",
      "(/usr/local/texlive/2020/texmf-dist/tex/generic/ltxcmds/ltxcmds.sty)\n",
      "(/usr/local/texlive/2020/texmf-dist/tex/generic/kvsetkeys/kvsetkeys.sty)))\n",
      "(/usr/local/texlive/2020/texmf-dist/tex/generic/iftex/iftex.sty)\n",
      "(/usr/local/texlive/2020/texmf-dist/tex/latex/fontspec/fontspec.sty\n",
      "(/usr/local/texlive/2020/texmf-dist/tex/latex/l3packages/xparse/xparse.sty\n",
      "(/usr/local/texlive/2020/texmf-dist/tex/latex/l3kernel/expl3.sty\n",
      "(/usr/local/texlive/2020/texmf-dist/tex/latex/l3backend/l3backend-xdvipdfmx.def\n",
      "))) (/usr/local/texlive/2020/texmf-dist/tex/latex/fontspec/fontspec-xetex.sty\n",
      "(/usr/local/texlive/2020/texmf-dist/tex/latex/base/fontenc.sty)\n",
      "(/usr/local/texlive/2020/texmf-dist/tex/latex/fontspec/fontspec.cfg)))\n",
      "(/usr/local/texlive/2020/texmf-dist/tex/latex/caption/caption.sty\n",
      "(/usr/local/texlive/2020/texmf-dist/tex/latex/caption/caption3.sty))\n",
      "(/usr/local/texlive/2020/texmf-dist/tex/latex/adjustbox/adjustbox.sty\n",
      "(/usr/local/texlive/2020/texmf-dist/tex/latex/xkeyval/xkeyval.sty\n",
      "(/usr/local/texlive/2020/texmf-dist/tex/generic/xkeyval/xkeyval.tex\n",
      "(/usr/local/texlive/2020/texmf-dist/tex/generic/xkeyval/xkvutils.tex)))\n",
      "(/usr/local/texlive/2020/texmf-dist/tex/latex/adjustbox/adjcalc.sty)\n",
      "(/usr/local/texlive/2020/texmf-dist/tex/latex/adjustbox/trimclip.sty\n",
      "(/usr/local/texlive/2020/texmf-dist/tex/latex/collectbox/collectbox.sty)\n",
      "(/usr/local/texlive/2020/texmf-dist/tex/latex/adjustbox/tc-xetex.def))\n",
      "(/usr/local/texlive/2020/texmf-dist/tex/latex/ifoddpage/ifoddpage.sty)\n",
      "(/usr/local/texlive/2020/texmf-dist/tex/latex/varwidth/varwidth.sty))\n",
      "(/usr/local/texlive/2020/texmf-dist/tex/latex/float/float.sty)\n",
      "(/usr/local/texlive/2020/texmf-dist/tex/latex/tools/enumerate.sty)\n",
      "(/usr/local/texlive/2020/texmf-dist/tex/latex/geometry/geometry.sty\n",
      "(/usr/local/texlive/2020/texmf-dist/tex/generic/iftex/ifvtex.sty))\n",
      "(/usr/local/texlive/2020/texmf-dist/tex/latex/amsmath/amsmath.sty\n",
      "For additional information on amsmath, use the `?' option.\n",
      "(/usr/local/texlive/2020/texmf-dist/tex/latex/amsmath/amstext.sty\n",
      "(/usr/local/texlive/2020/texmf-dist/tex/latex/amsmath/amsgen.sty))\n",
      "(/usr/local/texlive/2020/texmf-dist/tex/latex/amsmath/amsbsy.sty)\n",
      "(/usr/local/texlive/2020/texmf-dist/tex/latex/amsmath/amsopn.sty))\n",
      "(/usr/local/texlive/2020/texmf-dist/tex/latex/amsfonts/amssymb.sty\n",
      "(/usr/local/texlive/2020/texmf-dist/tex/latex/amsfonts/amsfonts.sty))\n",
      "(/usr/local/texlive/2020/texmf-dist/tex/latex/base/textcomp.sty)\n",
      "(/usr/local/texlive/2020/texmf-dist/tex/latex/upquote/upquote.sty)\n",
      "(/usr/local/texlive/2020/texmf-dist/tex/latex/eurosym/eurosym.sty)\n",
      "(/usr/local/texlive/2020/texmf-dist/tex/latex/ucs/ucs.sty\n",
      "(/usr/local/texlive/2020/texmf-dist/tex/latex/ucs/data/uni-global.def))\n",
      "(/usr/local/texlive/2020/texmf-dist/tex/latex/fancyvrb/fancyvrb.sty)\n",
      "(/usr/local/texlive/2020/texmf-dist/tex/latex/grffile/grffile.sty)\n",
      "(/usr/local/texlive/2020/texmf-dist/tex/latex/hyperref/hyperref.sty\n",
      "(/usr/local/texlive/2020/texmf-dist/tex/latex/pdftexcmds/pdftexcmds.sty\n",
      "(/usr/local/texlive/2020/texmf-dist/tex/generic/infwarerr/infwarerr.sty))\n",
      "(/usr/local/texlive/2020/texmf-dist/tex/generic/kvdefinekeys/kvdefinekeys.sty)\n",
      "(/usr/local/texlive/2020/texmf-dist/tex/generic/pdfescape/pdfescape.sty)\n",
      "(/usr/local/texlive/2020/texmf-dist/tex/latex/hycolor/hycolor.sty)\n",
      "(/usr/local/texlive/2020/texmf-dist/tex/latex/letltxmacro/letltxmacro.sty)\n",
      "(/usr/local/texlive/2020/texmf-dist/tex/latex/auxhook/auxhook.sty)\n",
      "(/usr/local/texlive/2020/texmf-dist/tex/latex/hyperref/pd1enc.def)\n",
      "(/usr/local/texlive/2020/texmf-dist/tex/generic/intcalc/intcalc.sty)\n",
      "(/usr/local/texlive/2020/texmf-dist/tex/generic/etexcmds/etexcmds.sty)\n",
      "(/usr/local/texlive/2020/texmf-dist/tex/latex/url/url.sty)\n",
      "(/usr/local/texlive/2020/texmf-dist/tex/generic/bitset/bitset.sty\n",
      "(/usr/local/texlive/2020/texmf-dist/tex/generic/bigintcalc/bigintcalc.sty))\n",
      "(/usr/local/texlive/2020/texmf-dist/tex/generic/atbegshi/atbegshi.sty))\n",
      "(/usr/local/texlive/2020/texmf-dist/tex/latex/hyperref/hxetex.def\n",
      "(/usr/local/texlive/2020/texmf-dist/tex/latex/hyperref/puenc.def)\n",
      "(/usr/local/texlive/2020/texmf-dist/tex/generic/stringenc/stringenc.sty)\n",
      "(/usr/local/texlive/2020/texmf-dist/tex/latex/rerunfilecheck/rerunfilecheck.sty\n",
      "(/usr/local/texlive/2020/texmf-dist/tex/latex/atveryend/atveryend.sty)\n",
      "(/usr/local/texlive/2020/texmf-dist/tex/generic/uniquecounter/uniquecounter.sty\n",
      "))) (/usr/local/texlive/2020/texmf-dist/tex/latex/titling/titling.sty)\n",
      "(/usr/local/texlive/2020/texmf-dist/tex/latex/tools/longtable.sty)\n",
      "(/usr/local/texlive/2020/texmf-dist/tex/latex/booktabs/booktabs.sty)\n",
      "(/usr/local/texlive/2020/texmf-dist/tex/latex/enumitem/enumitem.sty)\n",
      "(/usr/local/texlive/2020/texmf-dist/tex/generic/ulem/ulem.sty)\n",
      "(/usr/local/texlive/2020/texmf-dist/tex/latex/jknapltx/mathrsfs.sty)\n",
      "No file notebook.aux.\n",
      "(/usr/local/texlive/2020/texmf-dist/tex/latex/base/ts1cmr.fd)\n",
      "ABD: EveryShipout initializing macros\n",
      "(/usr/local/texlive/2020/texmf-dist/tex/latex/caption/ltcaption.sty)\n",
      "*geometry* driver: auto-detecting\n",
      "*geometry* detected driver: xetex\n",
      "*geometry* verbose mode - [ preamble ] result:\n",
      "* driver: xetex\n",
      "* paper: <default>\n",
      "* layout: <same size as paper>\n",
      "* layoutoffset:(h,v)=(0.0pt,0.0pt)\n",
      "* modes: \n",
      "* h-part:(L,W,R)=(72.26999pt, 469.75502pt, 72.26999pt)\n",
      "* v-part:(T,H,B)=(72.26999pt, 650.43001pt, 72.26999pt)\n",
      "* \\paperwidth=614.295pt\n",
      "* \\paperheight=794.96999pt\n",
      "* \\textwidth=469.75502pt\n",
      "* \\textheight=650.43001pt\n",
      "* \\oddsidemargin=0.0pt\n",
      "* \\evensidemargin=0.0pt\n",
      "* \\topmargin=-37.0pt\n",
      "* \\headheight=12.0pt\n",
      "* \\headsep=25.0pt\n",
      "* \\topskip=11.0pt\n",
      "* \\footskip=30.0pt\n",
      "* \\marginparwidth=59.0pt\n",
      "* \\marginparsep=10.0pt\n",
      "* \\columnsep=10.0pt\n",
      "* \\skip\\footins=10.0pt plus 4.0pt minus 2.0pt\n",
      "* \\hoffset=0.0pt\n",
      "* \\voffset=0.0pt\n",
      "* \\mag=1000\n",
      "* \\@twocolumnfalse\n",
      "* \\@twosidefalse\n",
      "* \\@mparswitchfalse\n",
      "* \\@reversemarginfalse\n",
      "* (1in=72.27pt=25.4mm, 1cm=28.453pt)\n",
      "\n",
      "(/usr/local/texlive/2020/texmf-dist/tex/latex/ucs/ucsencs.def)\n",
      "(/usr/local/texlive/2020/texmf-dist/tex/latex/hyperref/nameref.sty\n",
      "(/usr/local/texlive/2020/texmf-dist/tex/latex/refcount/refcount.sty)\n",
      "(/usr/local/texlive/2020/texmf-dist/tex/generic/gettitlestring/gettitlestring.s\n",
      "ty))\n",
      "\n",
      "Package hyperref Warning: Rerun to get /PageLabels entry.\n",
      "\n",
      "(/usr/local/texlive/2020/texmf-dist/tex/latex/amsfonts/umsa.fd)\n",
      "(/usr/local/texlive/2020/texmf-dist/tex/latex/amsfonts/umsb.fd)\n",
      "(/usr/local/texlive/2020/texmf-dist/tex/latex/jknapltx/ursfs.fd)\n",
      "\n",
      "LaTeX Warning: No \\author given.\n",
      "\n",
      "(/usr/local/texlive/2020/texmf-dist/tex/generic/stringenc/se-ascii-print.def)\n",
      "Overfull \\hbox (62.62006pt too wide) detected at line 415\n",
      "[][]\n",
      "[1] [2]\n",
      "! Missing $ inserted.\n",
      "<inserted text> \n",
      "                $\n",
      "l.522 \\$ \\tau\n",
      "             \\_O = 3.6E(1+\\frac{b}{a})(\\frac{t_w}{b})\\^{}2\n",
      "? \n",
      "! Emergency stop.\n",
      "<inserted text> \n",
      "                $\n",
      "l.522 \\$ \\tau\n",
      "             \\_O = 3.6E(1+\\frac{b}{a})(\\frac{t_w}{b})\\^{}2\n",
      "Output written on notebook.pdf (2 pages).\n",
      "Transcript written on notebook.log.\n",
      "\n",
      "Traceback (most recent call last):\n",
      "  File \"/Users/TomMcGonagle/opt/anaconda3/bin/jupyter-nbconvert\", line 8, in <module>\n",
      "    sys.exit(main())\n",
      "  File \"/Users/TomMcGonagle/opt/anaconda3/lib/python3.8/site-packages/jupyter_core/application.py\", line 270, in launch_instance\n"
     ]
    },
    {
     "name": "stdout",
     "output_type": "stream",
     "text": [
      "    return super(JupyterApp, cls).launch_instance(argv=argv, **kwargs)\r\n",
      "  File \"/Users/TomMcGonagle/opt/anaconda3/lib/python3.8/site-packages/traitlets/config/application.py\", line 845, in launch_instance\r\n",
      "    app.start()\r\n",
      "  File \"/Users/TomMcGonagle/opt/anaconda3/lib/python3.8/site-packages/nbconvert/nbconvertapp.py\", line 340, in start\r\n",
      "    self.convert_notebooks()\r\n",
      "  File \"/Users/TomMcGonagle/opt/anaconda3/lib/python3.8/site-packages/nbconvert/nbconvertapp.py\", line 510, in convert_notebooks\r\n",
      "    self.convert_single_notebook(notebook_filename)\r\n",
      "  File \"/Users/TomMcGonagle/opt/anaconda3/lib/python3.8/site-packages/nbconvert/nbconvertapp.py\", line 481, in convert_single_notebook\r\n",
      "    output, resources = self.export_single_notebook(notebook_filename, resources, input_buffer=input_buffer)\r\n",
      "  File \"/Users/TomMcGonagle/opt/anaconda3/lib/python3.8/site-packages/nbconvert/nbconvertapp.py\", line 410, in export_single_notebook\r\n",
      "    output, resources = self.exporter.from_filename(notebook_filename, resources=resources)\r\n",
      "  File \"/Users/TomMcGonagle/opt/anaconda3/lib/python3.8/site-packages/nbconvert/exporters/exporter.py\", line 179, in from_filename\r\n",
      "    return self.from_file(f, resources=resources, **kw)\r\n",
      "  File \"/Users/TomMcGonagle/opt/anaconda3/lib/python3.8/site-packages/nbconvert/exporters/exporter.py\", line 197, in from_file\r\n",
      "    return self.from_notebook_node(nbformat.read(file_stream, as_version=4), resources=resources, **kw)\r\n",
      "  File \"/Users/TomMcGonagle/opt/anaconda3/lib/python3.8/site-packages/nbconvert/exporters/pdf.py\", line 185, in from_notebook_node\r\n",
      "    self.run_latex(tex_file)\r\n",
      "  File \"/Users/TomMcGonagle/opt/anaconda3/lib/python3.8/site-packages/nbconvert/exporters/pdf.py\", line 155, in run_latex\r\n",
      "    return self.run_command(self.latex_command, filename,\r\n",
      "  File \"/Users/TomMcGonagle/opt/anaconda3/lib/python3.8/site-packages/nbconvert/exporters/pdf.py\", line 143, in run_command\r\n",
      "    raise raise_on_failure(\r\n",
      "nbconvert.exporters.pdf.LatexFailed: PDF creating failed, captured latex output:\r\n",
      "Failed to run \"['xelatex', './notebook.tex', '-quiet']\" command:\r\n",
      "This is XeTeX, Version 3.14159265-2.6-0.999992 (TeX Live 2020) (preloaded format=xelatex)\r\n",
      " restricted \\write18 enabled.\r\n",
      "entering extended mode\r\n",
      "(./notebook.tex\r\n",
      "LaTeX2e <2020-02-02> patch level 5\r\n",
      "L3 programming layer <2020-03-06>\r\n",
      "(/usr/local/texlive/2020/texmf-dist/tex/latex/base/article.cls\r\n",
      "Document Class: article 2019/12/20 v1.4l Standard LaTeX document class\r\n",
      "(/usr/local/texlive/2020/texmf-dist/tex/latex/base/size11.clo))\r\n",
      "(/usr/local/texlive/2020/texmf-dist/tex/latex/tcolorbox/tcolorbox.sty\r\n",
      "(/usr/local/texlive/2020/texmf-dist/tex/latex/pgf/basiclayer/pgf.sty\r\n",
      "(/usr/local/texlive/2020/texmf-dist/tex/latex/pgf/utilities/pgfrcs.sty\r\n",
      "(/usr/local/texlive/2020/texmf-dist/tex/generic/pgf/utilities/pgfutil-common.te\r\n",
      "x\r\n",
      "(/usr/local/texlive/2020/texmf-dist/tex/generic/pgf/utilities/pgfutil-common-li\r\n",
      "sts.tex))\r\n",
      "(/usr/local/texlive/2020/texmf-dist/tex/generic/pgf/utilities/pgfutil-latex.def\r\n",
      "(/usr/local/texlive/2020/texmf-dist/tex/latex/ms/everyshi.sty))\r\n",
      "(/usr/local/texlive/2020/texmf-dist/tex/generic/pgf/utilities/pgfrcs.code.tex\r\n",
      "(/usr/local/texlive/2020/texmf-dist/tex/generic/pgf/pgf.revision.tex)))\r\n",
      "(/usr/local/texlive/2020/texmf-dist/tex/latex/pgf/basiclayer/pgfcore.sty\r\n",
      "(/usr/local/texlive/2020/texmf-dist/tex/latex/graphics/graphicx.sty\r\n",
      "(/usr/local/texlive/2020/texmf-dist/tex/latex/graphics/keyval.sty)\r\n",
      "(/usr/local/texlive/2020/texmf-dist/tex/latex/graphics/graphics.sty\r\n",
      "(/usr/local/texlive/2020/texmf-dist/tex/latex/graphics/trig.sty)\r\n",
      "(/usr/local/texlive/2020/texmf-dist/tex/latex/graphics-cfg/graphics.cfg)\r\n",
      "(/usr/local/texlive/2020/texmf-dist/tex/latex/graphics-def/xetex.def)))\r\n",
      "(/usr/local/texlive/2020/texmf-dist/tex/latex/pgf/systemlayer/pgfsys.sty\r\n",
      "(/usr/local/texlive/2020/texmf-dist/tex/generic/pgf/systemlayer/pgfsys.code.tex\r\n",
      "(/usr/local/texlive/2020/texmf-dist/tex/generic/pgf/utilities/pgfkeys.code.tex\r\n",
      "(/usr/local/texlive/2020/texmf-dist/tex/generic/pgf/utilities/pgfkeysfiltered.c\r\n",
      "ode.tex))\r\n",
      "(/usr/local/texlive/2020/texmf-dist/tex/generic/pgf/systemlayer/pgf.cfg)\r\n",
      "(/usr/local/texlive/2020/texmf-dist/tex/generic/pgf/systemlayer/pgfsys-xetex.de\r\n",
      "f\r\n",
      "(/usr/local/texlive/2020/texmf-dist/tex/generic/pgf/systemlayer/pgfsys-dvipdfmx\r\n",
      ".def\r\n",
      "(/usr/local/texlive/2020/texmf-dist/tex/generic/pgf/systemlayer/pgfsys-common-p\r\n",
      "df.def))))\r\n",
      "(/usr/local/texlive/2020/texmf-dist/tex/generic/pgf/systemlayer/pgfsyssoftpath.\r\n",
      "code.tex)\r\n",
      "(/usr/local/texlive/2020/texmf-dist/tex/generic/pgf/systemlayer/pgfsysprotocol.\r\n",
      "code.tex)) (/usr/local/texlive/2020/texmf-dist/tex/latex/xcolor/xcolor.sty\r\n",
      "(/usr/local/texlive/2020/texmf-dist/tex/latex/graphics-cfg/color.cfg))\r\n",
      "(/usr/local/texlive/2020/texmf-dist/tex/generic/pgf/basiclayer/pgfcore.code.tex\r\n",
      "(/usr/local/texlive/2020/texmf-dist/tex/generic/pgf/math/pgfmath.code.tex\r\n",
      "(/usr/local/texlive/2020/texmf-dist/tex/generic/pgf/math/pgfmathcalc.code.tex\r\n",
      "(/usr/local/texlive/2020/texmf-dist/tex/generic/pgf/math/pgfmathutil.code.tex)\r\n",
      "(/usr/local/texlive/2020/texmf-dist/tex/generic/pgf/math/pgfmathparser.code.tex\r\n",
      ")\r\n",
      "(/usr/local/texlive/2020/texmf-dist/tex/generic/pgf/math/pgfmathfunctions.code.\r\n",
      "tex\r\n",
      "(/usr/local/texlive/2020/texmf-dist/tex/generic/pgf/math/pgfmathfunctions.basic\r\n",
      ".code.tex)\r\n",
      "(/usr/local/texlive/2020/texmf-dist/tex/generic/pgf/math/pgfmathfunctions.trigo\r\n",
      "nometric.code.tex)\r\n",
      "(/usr/local/texlive/2020/texmf-dist/tex/generic/pgf/math/pgfmathfunctions.rando\r\n",
      "m.code.tex)\r\n",
      "(/usr/local/texlive/2020/texmf-dist/tex/generic/pgf/math/pgfmathfunctions.compa\r\n",
      "rison.code.tex)\r\n",
      "(/usr/local/texlive/2020/texmf-dist/tex/generic/pgf/math/pgfmathfunctions.base.\r\n",
      "code.tex)\r\n",
      "(/usr/local/texlive/2020/texmf-dist/tex/generic/pgf/math/pgfmathfunctions.round\r\n",
      ".code.tex)\r\n",
      "(/usr/local/texlive/2020/texmf-dist/tex/generic/pgf/math/pgfmathfunctions.misc.\r\n",
      "code.tex)\r\n",
      "(/usr/local/texlive/2020/texmf-dist/tex/generic/pgf/math/pgfmathfunctions.integ\r\n",
      "erarithmetics.code.tex)))\r\n",
      "(/usr/local/texlive/2020/texmf-dist/tex/generic/pgf/math/pgfmathfloat.code.tex)\r\n",
      ") (/usr/local/texlive/2020/texmf-dist/tex/generic/pgf/math/pgfint.code.tex)\r\n",
      "(/usr/local/texlive/2020/texmf-dist/tex/generic/pgf/basiclayer/pgfcorepoints.co\r\n",
      "de.tex)\r\n",
      "(/usr/local/texlive/2020/texmf-dist/tex/generic/pgf/basiclayer/pgfcorepathconst\r\n",
      "ruct.code.tex)\r\n",
      "(/usr/local/texlive/2020/texmf-dist/tex/generic/pgf/basiclayer/pgfcorepathusage\r\n",
      ".code.tex)\r\n",
      "(/usr/local/texlive/2020/texmf-dist/tex/generic/pgf/basiclayer/pgfcorescopes.co\r\n",
      "de.tex)\r\n",
      "(/usr/local/texlive/2020/texmf-dist/tex/generic/pgf/basiclayer/pgfcoregraphicst\r\n",
      "ate.code.tex)\r\n",
      "(/usr/local/texlive/2020/texmf-dist/tex/generic/pgf/basiclayer/pgfcoretransform\r\n",
      "ations.code.tex)\r\n",
      "(/usr/local/texlive/2020/texmf-dist/tex/generic/pgf/basiclayer/pgfcorequick.cod\r\n",
      "e.tex)\r\n",
      "(/usr/local/texlive/2020/texmf-dist/tex/generic/pgf/basiclayer/pgfcoreobjects.c\r\n",
      "ode.tex)\r\n",
      "(/usr/local/texlive/2020/texmf-dist/tex/generic/pgf/basiclayer/pgfcorepathproce\r\n",
      "ssing.code.tex)\r\n",
      "(/usr/local/texlive/2020/texmf-dist/tex/generic/pgf/basiclayer/pgfcorearrows.co\r\n",
      "de.tex)\r\n",
      "(/usr/local/texlive/2020/texmf-dist/tex/generic/pgf/basiclayer/pgfcoreshade.cod\r\n",
      "e.tex)\r\n",
      "(/usr/local/texlive/2020/texmf-dist/tex/generic/pgf/basiclayer/pgfcoreimage.cod\r\n",
      "e.tex\r\n",
      "(/usr/local/texlive/2020/texmf-dist/tex/generic/pgf/basiclayer/pgfcoreexternal.\r\n",
      "code.tex))\r\n",
      "(/usr/local/texlive/2020/texmf-dist/tex/generic/pgf/basiclayer/pgfcorelayers.co\r\n",
      "de.tex)\r\n",
      "(/usr/local/texlive/2020/texmf-dist/tex/generic/pgf/basiclayer/pgfcoretranspare\r\n",
      "ncy.code.tex)\r\n",
      "(/usr/local/texlive/2020/texmf-dist/tex/generic/pgf/basiclayer/pgfcorepatterns.\r\n",
      "code.tex)\r\n",
      "(/usr/local/texlive/2020/texmf-dist/tex/generic/pgf/basiclayer/pgfcorerdf.code.\r\n",
      "tex)))\r\n",
      "(/usr/local/texlive/2020/texmf-dist/tex/generic/pgf/modules/pgfmoduleshapes.cod\r\n",
      "e.tex)\r\n",
      "(/usr/local/texlive/2020/texmf-dist/tex/generic/pgf/modules/pgfmoduleplot.code.\r\n",
      "tex)\r\n",
      "(/usr/local/texlive/2020/texmf-dist/tex/latex/pgf/compatibility/pgfcomp-version\r\n",
      "-0-65.sty)\r\n",
      "(/usr/local/texlive/2020/texmf-dist/tex/latex/pgf/compatibility/pgfcomp-version\r\n",
      "-1-18.sty)) (/usr/local/texlive/2020/texmf-dist/tex/latex/tools/verbatim.sty)\r\n",
      "(/usr/local/texlive/2020/texmf-dist/tex/latex/environ/environ.sty\r\n",
      "(/usr/local/texlive/2020/texmf-dist/tex/latex/trimspaces/trimspaces.sty))\r\n",
      "(/usr/local/texlive/2020/texmf-dist/tex/latex/etoolbox/etoolbox.sty)\r\n",
      "(/usr/local/texlive/2020/texmf-dist/tex/latex/tcolorbox/tcbbreakable.code.tex\r\n",
      "Library (tcolorbox): 'tcbbreakable.code.tex' version '4.22'\r\n",
      ")) (/usr/local/texlive/2020/texmf-dist/tex/latex/parskip/parskip.sty\r\n",
      "(/usr/local/texlive/2020/texmf-dist/tex/latex/kvoptions/kvoptions.sty\r\n",
      "(/usr/local/texlive/2020/texmf-dist/tex/generic/ltxcmds/ltxcmds.sty)\r\n",
      "(/usr/local/texlive/2020/texmf-dist/tex/generic/kvsetkeys/kvsetkeys.sty)))\r\n",
      "(/usr/local/texlive/2020/texmf-dist/tex/generic/iftex/iftex.sty)\r\n",
      "(/usr/local/texlive/2020/texmf-dist/tex/latex/fontspec/fontspec.sty\r\n",
      "(/usr/local/texlive/2020/texmf-dist/tex/latex/l3packages/xparse/xparse.sty\r\n",
      "(/usr/local/texlive/2020/texmf-dist/tex/latex/l3kernel/expl3.sty\r\n",
      "(/usr/local/texlive/2020/texmf-dist/tex/latex/l3backend/l3backend-xdvipdfmx.def\r\n",
      "))) (/usr/local/texlive/2020/texmf-dist/tex/latex/fontspec/fontspec-xetex.sty\r\n",
      "(/usr/local/texlive/2020/texmf-dist/tex/latex/base/fontenc.sty)\r\n",
      "(/usr/local/texlive/2020/texmf-dist/tex/latex/fontspec/fontspec.cfg)))\r\n",
      "(/usr/local/texlive/2020/texmf-dist/tex/latex/caption/caption.sty\r\n",
      "(/usr/local/texlive/2020/texmf-dist/tex/latex/caption/caption3.sty))\r\n",
      "(/usr/local/texlive/2020/texmf-dist/tex/latex/adjustbox/adjustbox.sty\r\n",
      "(/usr/local/texlive/2020/texmf-dist/tex/latex/xkeyval/xkeyval.sty\r\n",
      "(/usr/local/texlive/2020/texmf-dist/tex/generic/xkeyval/xkeyval.tex\r\n",
      "(/usr/local/texlive/2020/texmf-dist/tex/generic/xkeyval/xkvutils.tex)))\r\n",
      "(/usr/local/texlive/2020/texmf-dist/tex/latex/adjustbox/adjcalc.sty)\r\n",
      "(/usr/local/texlive/2020/texmf-dist/tex/latex/adjustbox/trimclip.sty\r\n",
      "(/usr/local/texlive/2020/texmf-dist/tex/latex/collectbox/collectbox.sty)\r\n",
      "(/usr/local/texlive/2020/texmf-dist/tex/latex/adjustbox/tc-xetex.def))\r\n",
      "(/usr/local/texlive/2020/texmf-dist/tex/latex/ifoddpage/ifoddpage.sty)\r\n",
      "(/usr/local/texlive/2020/texmf-dist/tex/latex/varwidth/varwidth.sty))\r\n",
      "(/usr/local/texlive/2020/texmf-dist/tex/latex/float/float.sty)\r\n",
      "(/usr/local/texlive/2020/texmf-dist/tex/latex/tools/enumerate.sty)\r\n",
      "(/usr/local/texlive/2020/texmf-dist/tex/latex/geometry/geometry.sty\r\n",
      "(/usr/local/texlive/2020/texmf-dist/tex/generic/iftex/ifvtex.sty))\r\n",
      "(/usr/local/texlive/2020/texmf-dist/tex/latex/amsmath/amsmath.sty\r\n",
      "For additional information on amsmath, use the `?' option.\r\n",
      "(/usr/local/texlive/2020/texmf-dist/tex/latex/amsmath/amstext.sty\r\n",
      "(/usr/local/texlive/2020/texmf-dist/tex/latex/amsmath/amsgen.sty))\r\n",
      "(/usr/local/texlive/2020/texmf-dist/tex/latex/amsmath/amsbsy.sty)\r\n",
      "(/usr/local/texlive/2020/texmf-dist/tex/latex/amsmath/amsopn.sty))\r\n",
      "(/usr/local/texlive/2020/texmf-dist/tex/latex/amsfonts/amssymb.sty\r\n",
      "(/usr/local/texlive/2020/texmf-dist/tex/latex/amsfonts/amsfonts.sty))\r\n",
      "(/usr/local/texlive/2020/texmf-dist/tex/latex/base/textcomp.sty)\r\n",
      "(/usr/local/texlive/2020/texmf-dist/tex/latex/upquote/upquote.sty)\r\n",
      "(/usr/local/texlive/2020/texmf-dist/tex/latex/eurosym/eurosym.sty)\r\n",
      "(/usr/local/texlive/2020/texmf-dist/tex/latex/ucs/ucs.sty\r\n",
      "(/usr/local/texlive/2020/texmf-dist/tex/latex/ucs/data/uni-global.def))\r\n",
      "(/usr/local/texlive/2020/texmf-dist/tex/latex/fancyvrb/fancyvrb.sty)\r\n",
      "(/usr/local/texlive/2020/texmf-dist/tex/latex/grffile/grffile.sty)\r\n",
      "(/usr/local/texlive/2020/texmf-dist/tex/latex/hyperref/hyperref.sty\r\n",
      "(/usr/local/texlive/2020/texmf-dist/tex/latex/pdftexcmds/pdftexcmds.sty\r\n",
      "(/usr/local/texlive/2020/texmf-dist/tex/generic/infwarerr/infwarerr.sty))\r\n",
      "(/usr/local/texlive/2020/texmf-dist/tex/generic/kvdefinekeys/kvdefinekeys.sty)\r\n",
      "(/usr/local/texlive/2020/texmf-dist/tex/generic/pdfescape/pdfescape.sty)\r\n",
      "(/usr/local/texlive/2020/texmf-dist/tex/latex/hycolor/hycolor.sty)\r\n",
      "(/usr/local/texlive/2020/texmf-dist/tex/latex/letltxmacro/letltxmacro.sty)\r\n",
      "(/usr/local/texlive/2020/texmf-dist/tex/latex/auxhook/auxhook.sty)\r\n",
      "(/usr/local/texlive/2020/texmf-dist/tex/latex/hyperref/pd1enc.def)\r\n",
      "(/usr/local/texlive/2020/texmf-dist/tex/generic/intcalc/intcalc.sty)\r\n",
      "(/usr/local/texlive/2020/texmf-dist/tex/generic/etexcmds/etexcmds.sty)\r\n",
      "(/usr/local/texlive/2020/texmf-dist/tex/latex/url/url.sty)\r\n",
      "(/usr/local/texlive/2020/texmf-dist/tex/generic/bitset/bitset.sty\r\n",
      "(/usr/local/texlive/2020/texmf-dist/tex/generic/bigintcalc/bigintcalc.sty))\r\n",
      "(/usr/local/texlive/2020/texmf-dist/tex/generic/atbegshi/atbegshi.sty))\r\n",
      "(/usr/local/texlive/2020/texmf-dist/tex/latex/hyperref/hxetex.def\r\n",
      "(/usr/local/texlive/2020/texmf-dist/tex/latex/hyperref/puenc.def)\r\n",
      "(/usr/local/texlive/2020/texmf-dist/tex/generic/stringenc/stringenc.sty)\r\n",
      "(/usr/local/texlive/2020/texmf-dist/tex/latex/rerunfilecheck/rerunfilecheck.sty\r\n",
      "(/usr/local/texlive/2020/texmf-dist/tex/latex/atveryend/atveryend.sty)\r\n",
      "(/usr/local/texlive/2020/texmf-dist/tex/generic/uniquecounter/uniquecounter.sty\r\n",
      "))) (/usr/local/texlive/2020/texmf-dist/tex/latex/titling/titling.sty)\r\n",
      "(/usr/local/texlive/2020/texmf-dist/tex/latex/tools/longtable.sty)\r\n",
      "(/usr/local/texlive/2020/texmf-dist/tex/latex/booktabs/booktabs.sty)\r\n",
      "(/usr/local/texlive/2020/texmf-dist/tex/latex/enumitem/enumitem.sty)\r\n",
      "(/usr/local/texlive/2020/texmf-dist/tex/generic/ulem/ulem.sty)\r\n",
      "(/usr/local/texlive/2020/texmf-dist/tex/latex/jknapltx/mathrsfs.sty)\r\n",
      "No file notebook.aux.\r\n",
      "(/usr/local/texlive/2020/texmf-dist/tex/latex/base/ts1cmr.fd)\r\n",
      "ABD: EveryShipout initializing macros\r\n",
      "(/usr/local/texlive/2020/texmf-dist/tex/latex/caption/ltcaption.sty)\r\n",
      "*geometry* driver: auto-detecting\r\n",
      "*geometry* detected driver: xetex\r\n",
      "*geometry* verbose mode - [ preamble ] result:\r\n",
      "* driver: xetex\r\n",
      "* paper: <default>\r\n",
      "* layout: <same size as paper>\r\n",
      "* layoutoffset:(h,v)=(0.0pt,0.0pt)\r\n",
      "* modes: \r\n",
      "* h-part:(L,W,R)=(72.26999pt, 469.75502pt, 72.26999pt)\r\n",
      "* v-part:(T,H,B)=(72.26999pt, 650.43001pt, 72.26999pt)\r\n",
      "* \\paperwidth=614.295pt\r\n",
      "* \\paperheight=794.96999pt\r\n",
      "* \\textwidth=469.75502pt\r\n",
      "* \\textheight=650.43001pt\r\n",
      "* \\oddsidemargin=0.0pt\r\n",
      "* \\evensidemargin=0.0pt\r\n",
      "* \\topmargin=-37.0pt\r\n",
      "* \\headheight=12.0pt\r\n",
      "* \\headsep=25.0pt\r\n",
      "* \\topskip=11.0pt\r\n",
      "* \\footskip=30.0pt\r\n",
      "* \\marginparwidth=59.0pt\r\n",
      "* \\marginparsep=10.0pt\r\n",
      "* \\columnsep=10.0pt\r\n",
      "* \\skip\\footins=10.0pt plus 4.0pt minus 2.0pt\r\n",
      "* \\hoffset=0.0pt\r\n",
      "* \\voffset=0.0pt\r\n",
      "* \\mag=1000\r\n",
      "* \\@twocolumnfalse\r\n",
      "* \\@twosidefalse\r\n",
      "* \\@mparswitchfalse\r\n",
      "* \\@reversemarginfalse\r\n",
      "* (1in=72.27pt=25.4mm, 1cm=28.453pt)\r\n",
      "\r\n",
      "(/usr/local/texlive/2020/texmf-dist/tex/latex/ucs/ucsencs.def)\r\n",
      "(/usr/local/texlive/2020/texmf-dist/tex/latex/hyperref/nameref.sty\r\n",
      "(/usr/local/texlive/2020/texmf-dist/tex/latex/refcount/refcount.sty)\r\n",
      "(/usr/local/texlive/2020/texmf-dist/tex/generic/gettitlestring/gettitlestring.s\r\n",
      "ty))\r\n",
      "\r\n",
      "Package hyperref Warning: Rerun to get /PageLabels entry.\r\n",
      "\r\n",
      "(/usr/local/texlive/2020/texmf-dist/tex/latex/amsfonts/umsa.fd)\r\n",
      "(/usr/local/texlive/2020/texmf-dist/tex/latex/amsfonts/umsb.fd)\r\n",
      "(/usr/local/texlive/2020/texmf-dist/tex/latex/jknapltx/ursfs.fd)\r\n",
      "\r\n",
      "LaTeX Warning: No \\author given.\r\n",
      "\r\n",
      "(/usr/local/texlive/2020/texmf-dist/tex/generic/stringenc/se-ascii-print.def)\r\n",
      "Overfull \\hbox (62.62006pt too wide) detected at line 415\r\n",
      "[][]\r\n",
      "[1] [2]\r\n",
      "! Missing $ inserted.\r\n",
      "<inserted text> \r\n",
      "                $\r\n",
      "l.522 \\$ \\tau\r\n",
      "             \\_O = 3.6E(1+\\frac{b}{a})(\\frac{t_w}{b})\\^{}2\r\n",
      "? \r\n",
      "! Emergency stop.\r\n",
      "<inserted text> \r\n",
      "                $\r\n",
      "l.522 \\$ \\tau\r\n",
      "             \\_O = 3.6E(1+\\frac{b}{a})(\\frac{t_w}{b})\\^{}2\r\n",
      "Output written on notebook.pdf (2 pages).\r\n",
      "Transcript written on notebook.log.\r\n",
      "\r\n"
     ]
    }
   ],
   "source": [
    "!jupyter nbconvert --to pdf --no-input Brg.ipynb"
   ]
  },
  {
   "cell_type": "code",
   "execution_count": null,
   "metadata": {},
   "outputs": [],
   "source": []
  }
 ],
 "metadata": {
  "hide_input": false,
  "kernelspec": {
   "display_name": "Python 3",
   "language": "python",
   "name": "python3"
  },
  "language_info": {
   "codemirror_mode": {
    "name": "ipython",
    "version": 3
   },
   "file_extension": ".py",
   "mimetype": "text/x-python",
   "name": "python",
   "nbconvert_exporter": "python",
   "pygments_lexer": "ipython3",
   "version": "3.8.5"
  },
  "toc": {
   "base_numbering": 1,
   "nav_menu": {},
   "number_sections": true,
   "sideBar": true,
   "skip_h1_title": false,
   "title_cell": "Table of Contents",
   "title_sidebar": "Contents",
   "toc_cell": true,
   "toc_position": {
    "height": "calc(100% - 180px)",
    "left": "10px",
    "top": "150px",
    "width": "165px"
   },
   "toc_section_display": true,
   "toc_window_display": false
  }
 },
 "nbformat": 4,
 "nbformat_minor": 4
}
